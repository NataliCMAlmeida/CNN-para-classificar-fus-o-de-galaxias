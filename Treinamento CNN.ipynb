{
 "cells": [
  {
   "cell_type": "code",
   "execution_count": 1,
   "id": "0c5fd392-59d5-41ba-bb30-8014fd30bf8a",
   "metadata": {},
   "outputs": [],
   "source": [
    "import numpy as np\n",
    "from sklearn.utils import shuffle\n",
    "from sklearn.model_selection import train_test_split\n",
    "from tqdm import tqdm\n",
    "import tensorflow as tf\n",
    "from tensorflow.keras.models import Model, Sequential\n",
    "from tensorflow.keras.layers import Conv2D, BatchNormalization, MaxPooling2D, Dropout, Flatten, Dense, Input\n",
    "from tensorflow.keras import regularizers\n",
    "from tensorflow.keras.callbacks import ModelCheckpoint, EarlyStopping, ReduceLROnPlateau\n",
    "from tensorflow.keras.optimizers import RMSprop\n",
    "import json\n",
    "import matplotlib.pyplot as plt"
   ]
  },
  {
   "cell_type": "code",
   "execution_count": 2,
   "id": "758d107a-cd92-46e6-a073-144868837470",
   "metadata": {},
   "outputs": [],
   "source": [
    "# Caminhos dos arquivos\n",
    "file_x_simsim = r\"C:\\Users\\stefa\\OneDrive\\Documentos\\Natali 2\\Pristine\\SimSim_SOURCE_X_Illustris2_pristine.npy\"\n",
    "file_y_simsim = r\"C:\\Users\\stefa\\OneDrive\\Documentos\\Natali 2\\Pristine\\SimSim_SOURCE_y_Illustris2_pristine.npy\"\n",
    "file_x_simreal = r\"C:\\Users\\stefa\\OneDrive\\Documentos\\Natali 2\\Pristine\\SimReal_SOURCE_X_Illustris0.npy\"\n",
    "file_y_simreal = r\"C:\\Users\\stefa\\OneDrive\\Documentos\\Natali 2\\Pristine\\SimReal_SOURCE_y_Illustris0.npy\"\n",
    "\n",
    "# Carregar os arquivos\n",
    "X_simsim = np.load(file_x_simsim)\n",
    "Y_simsim = np.load(file_y_simsim)\n",
    "X_simreal = np.load(file_x_simreal)\n",
    "Y_simreal = np.load(file_y_simreal)"
   ]
  },
  {
   "cell_type": "code",
   "execution_count": 3,
   "id": "a6d39d44-b955-4823-8808-858eef7d586e",
   "metadata": {},
   "outputs": [
    {
     "name": "stdout",
     "output_type": "stream",
     "text": [
      "SimSim:\n",
      "X_simsim.shape: (15426, 3, 75, 75)\n",
      "Y_simsim.shape: (15426,)\n",
      "Y_simsim[0]: 1.0\n",
      "\n",
      "SimReal:\n",
      "X_simreal.shape: (6000, 3, 75, 75)\n",
      "Y_simreal.shape: (6000,)\n"
     ]
    }
   ],
   "source": [
    "# Informações sobre os dados\n",
    "print(\"SimSim:\")\n",
    "print(f\"X_simsim.shape: {X_simsim.shape}\")\n",
    "print(f\"Y_simsim.shape: {Y_simsim.shape}\")\n",
    "print(f\"Y_simsim[0]: {Y_simsim[0]}\")\n",
    "\n",
    "print(\"\\nSimReal:\")\n",
    "print(f\"X_simreal.shape: {X_simreal.shape}\")\n",
    "print(f\"Y_simreal.shape: {Y_simreal.shape}\")"
   ]
  },
  {
   "cell_type": "code",
   "execution_count": 4,
   "id": "7f7ed932-435b-4722-a750-f359e293bd3b",
   "metadata": {},
   "outputs": [
    {
     "name": "stdout",
     "output_type": "stream",
     "text": [
      "Combinando datasets\n"
     ]
    }
   ],
   "source": [
    "# Combinar datasets\n",
    "print(\"Combinando datasets\")\n",
    "X = np.concatenate((X_simsim, X_simreal), axis=0)\n",
    "Y = np.concatenate((Y_simsim, Y_simreal), axis=0)"
   ]
  },
  {
   "cell_type": "code",
   "execution_count": 5,
   "id": "5f80b01e-32ca-4482-9b05-d123ee9b2b8c",
   "metadata": {},
   "outputs": [
    {
     "name": "stdout",
     "output_type": "stream",
     "text": [
      "Embaralhamento dos dados\n"
     ]
    }
   ],
   "source": [
    "# Embaralhamento dos dados\n",
    "print(\"Embaralhamento dos dados\")\n",
    "X, Y = shuffle(X, Y, random_state=42)"
   ]
  },
  {
   "cell_type": "code",
   "execution_count": 6,
   "id": "0aa770fd-02cb-4abf-ad9b-5b47a6c46f64",
   "metadata": {},
   "outputs": [],
   "source": [
    "# Dividir os dados\n",
    "X_train, X_val_test, Y_train, Y_val_test = train_test_split(X, Y, test_size=0.3, random_state=42)\n",
    "X_val, X_test, Y_val, Y_test = train_test_split(X_val_test, Y_val_test, test_size=2/3, random_state=42)"
   ]
  },
  {
   "cell_type": "code",
   "execution_count": 7,
   "id": "f3a279b0-274e-428e-bf9c-140b1483b464",
   "metadata": {},
   "outputs": [],
   "source": [
    "# Normalização e transposição\n",
    "X_train = X_train.transpose((0, 2, 3, 1)).astype('float32') / 255.0\n",
    "X_val = X_val.transpose((0, 2, 3, 1)).astype('float32') / 255.0\n",
    "X_test = X_test.transpose((0, 2, 3, 1)).astype('float32') / 255.0"
   ]
  },
  {
   "cell_type": "code",
   "execution_count": 8,
   "id": "b930d147-ad15-48cd-9c3e-3b54411e9eef",
   "metadata": {},
   "outputs": [
    {
     "name": "stdout",
     "output_type": "stream",
     "text": [
      "Data dimensions: \n",
      "Training set:  (14998, 75, 75, 3) (14998,)\n",
      "Validation set:  (2142, 75, 75, 3) (2142,)\n",
      "Test Set:  (4286, 75, 75, 3) (4286,)\n"
     ]
    }
   ],
   "source": [
    "# Dimensões dos dados\n",
    "print(\"Data dimensions: \")\n",
    "print(\"Training set: \", np.shape(X_train), np.shape(Y_train))\n",
    "print(\"Validation set: \", np.shape(X_val), np.shape(Y_val))\n",
    "print(\"Test Set: \", np.shape(X_test), np.shape(Y_test))"
   ]
  },
  {
   "cell_type": "code",
   "execution_count": 9,
   "id": "8580f8c5-1a5c-40b7-a594-d8b9e3864761",
   "metadata": {},
   "outputs": [],
   "source": [
    "# Verificação de dados\n",
    "assert len(X) == len(X_train) + len(X_val) + len(X_test), \"Erro: Dados de X não foram preservados!\"\n",
    "assert len(Y) == len(Y_train) + len(Y_val) + len(Y_test), \"Erro: Dados de Y não foram preservados!\""
   ]
  },
  {
   "cell_type": "code",
   "execution_count": 10,
   "id": "b2eb34bb-83db-47f6-ae67-2b5573b87d77",
   "metadata": {},
   "outputs": [
    {
     "name": "stdout",
     "output_type": "stream",
     "text": [
      "Dados pré-processados salvos!\n"
     ]
    }
   ],
   "source": [
    "# Salvar dados pré-processados\n",
    "np.save(\"X_train.npy\", X_train)\n",
    "np.save(\"Y_train.npy\", Y_train)\n",
    "np.save(\"X_val.npy\", X_val)\n",
    "np.save(\"Y_val.npy\", Y_val)\n",
    "np.save(\"X_test.npy\", X_test)\n",
    "np.save(\"Y_test.npy\", Y_test)\n",
    "\n",
    "print(\"Dados pré-processados salvos!\")"
   ]
  },
  {
   "cell_type": "code",
   "execution_count": 11,
   "id": "29d5b6b8-4f70-4b5d-bb54-5ced448ea218",
   "metadata": {},
   "outputs": [
    {
     "name": "stdout",
     "output_type": "stream",
     "text": [
      "Formato de X_train: (14998, 75, 75, 3)\n",
      "Formato de Y_train: (14998,)\n",
      "Formato de X_val: (2142, 75, 75, 3)\n",
      "Formato de Y_val: (2142,)\n",
      "Formato de X_test: (4286, 75, 75, 3)\n",
      "Formato de Y_test: (4286,)\n"
     ]
    }
   ],
   "source": [
    "# Carregar dados pré-processados\n",
    "X_train = np.load(\"X_train.npy\")\n",
    "Y_train = np.load(\"Y_train.npy\")\n",
    "X_val = np.load(\"X_val.npy\")\n",
    "Y_val = np.load(\"Y_val.npy\")\n",
    "X_test = np.load(\"X_test.npy\")\n",
    "Y_test = np.load(\"Y_test.npy\")\n",
    "\n",
    "# Imprimir formatos dos dados\n",
    "print(\"Formato de X_train:\", np.shape(X_train))\n",
    "print(\"Formato de Y_train:\", np.shape(Y_train))\n",
    "print(\"Formato de X_val:\", np.shape(X_val))\n",
    "print(\"Formato de Y_val:\", np.shape(Y_val))\n",
    "print(\"Formato de X_test:\", np.shape(X_test))\n",
    "print(\"Formato de Y_test:\", np.shape(Y_test))"
   ]
  },
  {
   "cell_type": "code",
   "execution_count": 12,
   "id": "070e2514-f32b-49a0-a850-1167efe77860",
   "metadata": {},
   "outputs": [],
   "source": [
    "# Definir a forma dos dados de entrada\n",
    "input_shape = np.shape(X_train)[1:]"
   ]
  },
  {
   "cell_type": "code",
   "execution_count": 13,
   "id": "ecd564bd-6b17-4fe7-bd7b-c40df1abe4f6",
   "metadata": {},
   "outputs": [],
   "source": [
    "# Parâmetros de compilação\n",
    "optimizer = 'adam'\n",
    "metrics = ['accuracy']\n",
    "loss = 'binary_crossentropy'"
   ]
  },
  {
   "cell_type": "code",
   "execution_count": 25,
   "id": "47d56e3f-7c08-48b5-bea9-fa53a9b9acc7",
   "metadata": {},
   "outputs": [],
   "source": [
    "# Criar o modelo\n",
    "model = Sequential()\n",
    "\n",
    "# Camadas convolucionais\n",
    "model.add(Conv2D(8, (5, 5), activation='relu', strides=(1, 1), padding='same', data_format='channels_last', input_shape=input_shape))\n",
    "model.add(BatchNormalization())\n",
    "model.add(MaxPooling2D(pool_size=(2, 2), padding='same', data_format='channels_last'))\n",
    "model.add(Dropout(0.2))  # Adicione Dropout após a primeira camada convolucional\n",
    "\n",
    "model.add(Conv2D(16, (3, 3), activation='relu', strides=(1, 1), padding='same', data_format='channels_last'))\n",
    "model.add(BatchNormalization())\n",
    "model.add(MaxPooling2D(pool_size=(2, 2), padding='same', data_format='channels_last'))\n",
    "model.add(Dropout(0.3))  # Adicione Dropout após a segunda camada convolucional\n",
    "\n",
    "model.add(Conv2D(32, (3, 3), activation='relu', strides=(1, 1), padding='same', data_format='channels_last'))\n",
    "model.add(BatchNormalization())\n",
    "model.add(MaxPooling2D(pool_size=(2, 2), padding='same', data_format='channels_last'))\n",
    "model.add(Dropout(0.4))  # Adicione Dropout após a terceira camada convolucional\n",
    "\n",
    "# Camadas densas\n",
    "model.add(Flatten())\n",
    "model.add(Dense(64, activation='relu', kernel_regularizer=l2(0.0001))) \n",
    "model.add(Dropout(0.5)) # Adicione Dropout após a primeira camada densa\n",
    "model.add(Dense(32, activation='relu', kernel_regularizer=l2(0.0001))) \n",
    "model.add(Dropout(0.5)) # Adicione Dropout após a segunda camada densa\n",
    "\n",
    "# Camada de saída\n",
    "model.add(Dense(1, activation='sigmoid'))"
   ]
  },
  {
   "cell_type": "code",
   "execution_count": 26,
   "id": "f1431ceb-58a7-4d3e-8283-6163f96b15ab",
   "metadata": {},
   "outputs": [
    {
     "data": {
      "text/html": [
       "<pre style=\"white-space:pre;overflow-x:auto;line-height:normal;font-family:Menlo,'DejaVu Sans Mono',consolas,'Courier New',monospace\"><span style=\"font-weight: bold\">Model: \"sequential_2\"</span>\n",
       "</pre>\n"
      ],
      "text/plain": [
       "\u001b[1mModel: \"sequential_2\"\u001b[0m\n"
      ]
     },
     "metadata": {},
     "output_type": "display_data"
    },
    {
     "data": {
      "text/html": [
       "<pre style=\"white-space:pre;overflow-x:auto;line-height:normal;font-family:Menlo,'DejaVu Sans Mono',consolas,'Courier New',monospace\">┏━━━━━━━━━━━━━━━━━━━━━━━━━━┳━━━━━━━━━━━━━━━━━━━━┳━━━━━━━━━━━━┓\n",
       "┃<span style=\"font-weight: bold\"> Layer (type)             </span>┃<span style=\"font-weight: bold\"> Output Shape       </span>┃<span style=\"font-weight: bold\">    Param # </span>┃\n",
       "┡━━━━━━━━━━━━━━━━━━━━━━━━━━╇━━━━━━━━━━━━━━━━━━━━╇━━━━━━━━━━━━┩\n",
       "│ conv2d_6 (<span style=\"color: #0087ff; text-decoration-color: #0087ff\">Conv2D</span>)        │ (<span style=\"color: #00d7ff; text-decoration-color: #00d7ff\">None</span>, <span style=\"color: #00af00; text-decoration-color: #00af00\">75</span>, <span style=\"color: #00af00; text-decoration-color: #00af00\">75</span>, <span style=\"color: #00af00; text-decoration-color: #00af00\">8</span>)  │        <span style=\"color: #00af00; text-decoration-color: #00af00\">608</span> │\n",
       "├──────────────────────────┼────────────────────┼────────────┤\n",
       "│ batch_normalization_6    │ (<span style=\"color: #00d7ff; text-decoration-color: #00d7ff\">None</span>, <span style=\"color: #00af00; text-decoration-color: #00af00\">75</span>, <span style=\"color: #00af00; text-decoration-color: #00af00\">75</span>, <span style=\"color: #00af00; text-decoration-color: #00af00\">8</span>)  │         <span style=\"color: #00af00; text-decoration-color: #00af00\">32</span> │\n",
       "│ (<span style=\"color: #0087ff; text-decoration-color: #0087ff\">BatchNormalization</span>)     │                    │            │\n",
       "├──────────────────────────┼────────────────────┼────────────┤\n",
       "│ max_pooling2d_6          │ (<span style=\"color: #00d7ff; text-decoration-color: #00d7ff\">None</span>, <span style=\"color: #00af00; text-decoration-color: #00af00\">38</span>, <span style=\"color: #00af00; text-decoration-color: #00af00\">38</span>, <span style=\"color: #00af00; text-decoration-color: #00af00\">8</span>)  │          <span style=\"color: #00af00; text-decoration-color: #00af00\">0</span> │\n",
       "│ (<span style=\"color: #0087ff; text-decoration-color: #0087ff\">MaxPooling2D</span>)           │                    │            │\n",
       "├──────────────────────────┼────────────────────┼────────────┤\n",
       "│ dropout_6 (<span style=\"color: #0087ff; text-decoration-color: #0087ff\">Dropout</span>)      │ (<span style=\"color: #00d7ff; text-decoration-color: #00d7ff\">None</span>, <span style=\"color: #00af00; text-decoration-color: #00af00\">38</span>, <span style=\"color: #00af00; text-decoration-color: #00af00\">38</span>, <span style=\"color: #00af00; text-decoration-color: #00af00\">8</span>)  │          <span style=\"color: #00af00; text-decoration-color: #00af00\">0</span> │\n",
       "├──────────────────────────┼────────────────────┼────────────┤\n",
       "│ conv2d_7 (<span style=\"color: #0087ff; text-decoration-color: #0087ff\">Conv2D</span>)        │ (<span style=\"color: #00d7ff; text-decoration-color: #00d7ff\">None</span>, <span style=\"color: #00af00; text-decoration-color: #00af00\">38</span>, <span style=\"color: #00af00; text-decoration-color: #00af00\">38</span>, <span style=\"color: #00af00; text-decoration-color: #00af00\">16</span>) │      <span style=\"color: #00af00; text-decoration-color: #00af00\">1,168</span> │\n",
       "├──────────────────────────┼────────────────────┼────────────┤\n",
       "│ batch_normalization_7    │ (<span style=\"color: #00d7ff; text-decoration-color: #00d7ff\">None</span>, <span style=\"color: #00af00; text-decoration-color: #00af00\">38</span>, <span style=\"color: #00af00; text-decoration-color: #00af00\">38</span>, <span style=\"color: #00af00; text-decoration-color: #00af00\">16</span>) │         <span style=\"color: #00af00; text-decoration-color: #00af00\">64</span> │\n",
       "│ (<span style=\"color: #0087ff; text-decoration-color: #0087ff\">BatchNormalization</span>)     │                    │            │\n",
       "├──────────────────────────┼────────────────────┼────────────┤\n",
       "│ max_pooling2d_7          │ (<span style=\"color: #00d7ff; text-decoration-color: #00d7ff\">None</span>, <span style=\"color: #00af00; text-decoration-color: #00af00\">19</span>, <span style=\"color: #00af00; text-decoration-color: #00af00\">19</span>, <span style=\"color: #00af00; text-decoration-color: #00af00\">16</span>) │          <span style=\"color: #00af00; text-decoration-color: #00af00\">0</span> │\n",
       "│ (<span style=\"color: #0087ff; text-decoration-color: #0087ff\">MaxPooling2D</span>)           │                    │            │\n",
       "├──────────────────────────┼────────────────────┼────────────┤\n",
       "│ dropout_7 (<span style=\"color: #0087ff; text-decoration-color: #0087ff\">Dropout</span>)      │ (<span style=\"color: #00d7ff; text-decoration-color: #00d7ff\">None</span>, <span style=\"color: #00af00; text-decoration-color: #00af00\">19</span>, <span style=\"color: #00af00; text-decoration-color: #00af00\">19</span>, <span style=\"color: #00af00; text-decoration-color: #00af00\">16</span>) │          <span style=\"color: #00af00; text-decoration-color: #00af00\">0</span> │\n",
       "├──────────────────────────┼────────────────────┼────────────┤\n",
       "│ conv2d_8 (<span style=\"color: #0087ff; text-decoration-color: #0087ff\">Conv2D</span>)        │ (<span style=\"color: #00d7ff; text-decoration-color: #00d7ff\">None</span>, <span style=\"color: #00af00; text-decoration-color: #00af00\">19</span>, <span style=\"color: #00af00; text-decoration-color: #00af00\">19</span>, <span style=\"color: #00af00; text-decoration-color: #00af00\">32</span>) │      <span style=\"color: #00af00; text-decoration-color: #00af00\">4,640</span> │\n",
       "├──────────────────────────┼────────────────────┼────────────┤\n",
       "│ batch_normalization_8    │ (<span style=\"color: #00d7ff; text-decoration-color: #00d7ff\">None</span>, <span style=\"color: #00af00; text-decoration-color: #00af00\">19</span>, <span style=\"color: #00af00; text-decoration-color: #00af00\">19</span>, <span style=\"color: #00af00; text-decoration-color: #00af00\">32</span>) │        <span style=\"color: #00af00; text-decoration-color: #00af00\">128</span> │\n",
       "│ (<span style=\"color: #0087ff; text-decoration-color: #0087ff\">BatchNormalization</span>)     │                    │            │\n",
       "├──────────────────────────┼────────────────────┼────────────┤\n",
       "│ max_pooling2d_8          │ (<span style=\"color: #00d7ff; text-decoration-color: #00d7ff\">None</span>, <span style=\"color: #00af00; text-decoration-color: #00af00\">10</span>, <span style=\"color: #00af00; text-decoration-color: #00af00\">10</span>, <span style=\"color: #00af00; text-decoration-color: #00af00\">32</span>) │          <span style=\"color: #00af00; text-decoration-color: #00af00\">0</span> │\n",
       "│ (<span style=\"color: #0087ff; text-decoration-color: #0087ff\">MaxPooling2D</span>)           │                    │            │\n",
       "├──────────────────────────┼────────────────────┼────────────┤\n",
       "│ dropout_8 (<span style=\"color: #0087ff; text-decoration-color: #0087ff\">Dropout</span>)      │ (<span style=\"color: #00d7ff; text-decoration-color: #00d7ff\">None</span>, <span style=\"color: #00af00; text-decoration-color: #00af00\">10</span>, <span style=\"color: #00af00; text-decoration-color: #00af00\">10</span>, <span style=\"color: #00af00; text-decoration-color: #00af00\">32</span>) │          <span style=\"color: #00af00; text-decoration-color: #00af00\">0</span> │\n",
       "├──────────────────────────┼────────────────────┼────────────┤\n",
       "│ flatten_2 (<span style=\"color: #0087ff; text-decoration-color: #0087ff\">Flatten</span>)      │ (<span style=\"color: #00d7ff; text-decoration-color: #00d7ff\">None</span>, <span style=\"color: #00af00; text-decoration-color: #00af00\">3200</span>)       │          <span style=\"color: #00af00; text-decoration-color: #00af00\">0</span> │\n",
       "├──────────────────────────┼────────────────────┼────────────┤\n",
       "│ dense_3 (<span style=\"color: #0087ff; text-decoration-color: #0087ff\">Dense</span>)          │ (<span style=\"color: #00d7ff; text-decoration-color: #00d7ff\">None</span>, <span style=\"color: #00af00; text-decoration-color: #00af00\">64</span>)         │    <span style=\"color: #00af00; text-decoration-color: #00af00\">204,864</span> │\n",
       "├──────────────────────────┼────────────────────┼────────────┤\n",
       "│ dropout_9 (<span style=\"color: #0087ff; text-decoration-color: #0087ff\">Dropout</span>)      │ (<span style=\"color: #00d7ff; text-decoration-color: #00d7ff\">None</span>, <span style=\"color: #00af00; text-decoration-color: #00af00\">64</span>)         │          <span style=\"color: #00af00; text-decoration-color: #00af00\">0</span> │\n",
       "├──────────────────────────┼────────────────────┼────────────┤\n",
       "│ dense_4 (<span style=\"color: #0087ff; text-decoration-color: #0087ff\">Dense</span>)          │ (<span style=\"color: #00d7ff; text-decoration-color: #00d7ff\">None</span>, <span style=\"color: #00af00; text-decoration-color: #00af00\">32</span>)         │      <span style=\"color: #00af00; text-decoration-color: #00af00\">2,080</span> │\n",
       "├──────────────────────────┼────────────────────┼────────────┤\n",
       "│ dropout_10 (<span style=\"color: #0087ff; text-decoration-color: #0087ff\">Dropout</span>)     │ (<span style=\"color: #00d7ff; text-decoration-color: #00d7ff\">None</span>, <span style=\"color: #00af00; text-decoration-color: #00af00\">32</span>)         │          <span style=\"color: #00af00; text-decoration-color: #00af00\">0</span> │\n",
       "├──────────────────────────┼────────────────────┼────────────┤\n",
       "│ dense_5 (<span style=\"color: #0087ff; text-decoration-color: #0087ff\">Dense</span>)          │ (<span style=\"color: #00d7ff; text-decoration-color: #00d7ff\">None</span>, <span style=\"color: #00af00; text-decoration-color: #00af00\">1</span>)          │         <span style=\"color: #00af00; text-decoration-color: #00af00\">33</span> │\n",
       "└──────────────────────────┴────────────────────┴────────────┘\n",
       "</pre>\n"
      ],
      "text/plain": [
       "┏━━━━━━━━━━━━━━━━━━━━━━━━━━┳━━━━━━━━━━━━━━━━━━━━┳━━━━━━━━━━━━┓\n",
       "┃\u001b[1m \u001b[0m\u001b[1mLayer (type)            \u001b[0m\u001b[1m \u001b[0m┃\u001b[1m \u001b[0m\u001b[1mOutput Shape      \u001b[0m\u001b[1m \u001b[0m┃\u001b[1m \u001b[0m\u001b[1m   Param #\u001b[0m\u001b[1m \u001b[0m┃\n",
       "┡━━━━━━━━━━━━━━━━━━━━━━━━━━╇━━━━━━━━━━━━━━━━━━━━╇━━━━━━━━━━━━┩\n",
       "│ conv2d_6 (\u001b[38;5;33mConv2D\u001b[0m)        │ (\u001b[38;5;45mNone\u001b[0m, \u001b[38;5;34m75\u001b[0m, \u001b[38;5;34m75\u001b[0m, \u001b[38;5;34m8\u001b[0m)  │        \u001b[38;5;34m608\u001b[0m │\n",
       "├──────────────────────────┼────────────────────┼────────────┤\n",
       "│ batch_normalization_6    │ (\u001b[38;5;45mNone\u001b[0m, \u001b[38;5;34m75\u001b[0m, \u001b[38;5;34m75\u001b[0m, \u001b[38;5;34m8\u001b[0m)  │         \u001b[38;5;34m32\u001b[0m │\n",
       "│ (\u001b[38;5;33mBatchNormalization\u001b[0m)     │                    │            │\n",
       "├──────────────────────────┼────────────────────┼────────────┤\n",
       "│ max_pooling2d_6          │ (\u001b[38;5;45mNone\u001b[0m, \u001b[38;5;34m38\u001b[0m, \u001b[38;5;34m38\u001b[0m, \u001b[38;5;34m8\u001b[0m)  │          \u001b[38;5;34m0\u001b[0m │\n",
       "│ (\u001b[38;5;33mMaxPooling2D\u001b[0m)           │                    │            │\n",
       "├──────────────────────────┼────────────────────┼────────────┤\n",
       "│ dropout_6 (\u001b[38;5;33mDropout\u001b[0m)      │ (\u001b[38;5;45mNone\u001b[0m, \u001b[38;5;34m38\u001b[0m, \u001b[38;5;34m38\u001b[0m, \u001b[38;5;34m8\u001b[0m)  │          \u001b[38;5;34m0\u001b[0m │\n",
       "├──────────────────────────┼────────────────────┼────────────┤\n",
       "│ conv2d_7 (\u001b[38;5;33mConv2D\u001b[0m)        │ (\u001b[38;5;45mNone\u001b[0m, \u001b[38;5;34m38\u001b[0m, \u001b[38;5;34m38\u001b[0m, \u001b[38;5;34m16\u001b[0m) │      \u001b[38;5;34m1,168\u001b[0m │\n",
       "├──────────────────────────┼────────────────────┼────────────┤\n",
       "│ batch_normalization_7    │ (\u001b[38;5;45mNone\u001b[0m, \u001b[38;5;34m38\u001b[0m, \u001b[38;5;34m38\u001b[0m, \u001b[38;5;34m16\u001b[0m) │         \u001b[38;5;34m64\u001b[0m │\n",
       "│ (\u001b[38;5;33mBatchNormalization\u001b[0m)     │                    │            │\n",
       "├──────────────────────────┼────────────────────┼────────────┤\n",
       "│ max_pooling2d_7          │ (\u001b[38;5;45mNone\u001b[0m, \u001b[38;5;34m19\u001b[0m, \u001b[38;5;34m19\u001b[0m, \u001b[38;5;34m16\u001b[0m) │          \u001b[38;5;34m0\u001b[0m │\n",
       "│ (\u001b[38;5;33mMaxPooling2D\u001b[0m)           │                    │            │\n",
       "├──────────────────────────┼────────────────────┼────────────┤\n",
       "│ dropout_7 (\u001b[38;5;33mDropout\u001b[0m)      │ (\u001b[38;5;45mNone\u001b[0m, \u001b[38;5;34m19\u001b[0m, \u001b[38;5;34m19\u001b[0m, \u001b[38;5;34m16\u001b[0m) │          \u001b[38;5;34m0\u001b[0m │\n",
       "├──────────────────────────┼────────────────────┼────────────┤\n",
       "│ conv2d_8 (\u001b[38;5;33mConv2D\u001b[0m)        │ (\u001b[38;5;45mNone\u001b[0m, \u001b[38;5;34m19\u001b[0m, \u001b[38;5;34m19\u001b[0m, \u001b[38;5;34m32\u001b[0m) │      \u001b[38;5;34m4,640\u001b[0m │\n",
       "├──────────────────────────┼────────────────────┼────────────┤\n",
       "│ batch_normalization_8    │ (\u001b[38;5;45mNone\u001b[0m, \u001b[38;5;34m19\u001b[0m, \u001b[38;5;34m19\u001b[0m, \u001b[38;5;34m32\u001b[0m) │        \u001b[38;5;34m128\u001b[0m │\n",
       "│ (\u001b[38;5;33mBatchNormalization\u001b[0m)     │                    │            │\n",
       "├──────────────────────────┼────────────────────┼────────────┤\n",
       "│ max_pooling2d_8          │ (\u001b[38;5;45mNone\u001b[0m, \u001b[38;5;34m10\u001b[0m, \u001b[38;5;34m10\u001b[0m, \u001b[38;5;34m32\u001b[0m) │          \u001b[38;5;34m0\u001b[0m │\n",
       "│ (\u001b[38;5;33mMaxPooling2D\u001b[0m)           │                    │            │\n",
       "├──────────────────────────┼────────────────────┼────────────┤\n",
       "│ dropout_8 (\u001b[38;5;33mDropout\u001b[0m)      │ (\u001b[38;5;45mNone\u001b[0m, \u001b[38;5;34m10\u001b[0m, \u001b[38;5;34m10\u001b[0m, \u001b[38;5;34m32\u001b[0m) │          \u001b[38;5;34m0\u001b[0m │\n",
       "├──────────────────────────┼────────────────────┼────────────┤\n",
       "│ flatten_2 (\u001b[38;5;33mFlatten\u001b[0m)      │ (\u001b[38;5;45mNone\u001b[0m, \u001b[38;5;34m3200\u001b[0m)       │          \u001b[38;5;34m0\u001b[0m │\n",
       "├──────────────────────────┼────────────────────┼────────────┤\n",
       "│ dense_3 (\u001b[38;5;33mDense\u001b[0m)          │ (\u001b[38;5;45mNone\u001b[0m, \u001b[38;5;34m64\u001b[0m)         │    \u001b[38;5;34m204,864\u001b[0m │\n",
       "├──────────────────────────┼────────────────────┼────────────┤\n",
       "│ dropout_9 (\u001b[38;5;33mDropout\u001b[0m)      │ (\u001b[38;5;45mNone\u001b[0m, \u001b[38;5;34m64\u001b[0m)         │          \u001b[38;5;34m0\u001b[0m │\n",
       "├──────────────────────────┼────────────────────┼────────────┤\n",
       "│ dense_4 (\u001b[38;5;33mDense\u001b[0m)          │ (\u001b[38;5;45mNone\u001b[0m, \u001b[38;5;34m32\u001b[0m)         │      \u001b[38;5;34m2,080\u001b[0m │\n",
       "├──────────────────────────┼────────────────────┼────────────┤\n",
       "│ dropout_10 (\u001b[38;5;33mDropout\u001b[0m)     │ (\u001b[38;5;45mNone\u001b[0m, \u001b[38;5;34m32\u001b[0m)         │          \u001b[38;5;34m0\u001b[0m │\n",
       "├──────────────────────────┼────────────────────┼────────────┤\n",
       "│ dense_5 (\u001b[38;5;33mDense\u001b[0m)          │ (\u001b[38;5;45mNone\u001b[0m, \u001b[38;5;34m1\u001b[0m)          │         \u001b[38;5;34m33\u001b[0m │\n",
       "└──────────────────────────┴────────────────────┴────────────┘\n"
      ]
     },
     "metadata": {},
     "output_type": "display_data"
    },
    {
     "data": {
      "text/html": [
       "<pre style=\"white-space:pre;overflow-x:auto;line-height:normal;font-family:Menlo,'DejaVu Sans Mono',consolas,'Courier New',monospace\"><span style=\"font-weight: bold\"> Total params: </span><span style=\"color: #00af00; text-decoration-color: #00af00\">213,617</span> (834.44 KB)\n",
       "</pre>\n"
      ],
      "text/plain": [
       "\u001b[1m Total params: \u001b[0m\u001b[38;5;34m213,617\u001b[0m (834.44 KB)\n"
      ]
     },
     "metadata": {},
     "output_type": "display_data"
    },
    {
     "data": {
      "text/html": [
       "<pre style=\"white-space:pre;overflow-x:auto;line-height:normal;font-family:Menlo,'DejaVu Sans Mono',consolas,'Courier New',monospace\"><span style=\"font-weight: bold\"> Trainable params: </span><span style=\"color: #00af00; text-decoration-color: #00af00\">213,505</span> (834.00 KB)\n",
       "</pre>\n"
      ],
      "text/plain": [
       "\u001b[1m Trainable params: \u001b[0m\u001b[38;5;34m213,505\u001b[0m (834.00 KB)\n"
      ]
     },
     "metadata": {},
     "output_type": "display_data"
    },
    {
     "data": {
      "text/html": [
       "<pre style=\"white-space:pre;overflow-x:auto;line-height:normal;font-family:Menlo,'DejaVu Sans Mono',consolas,'Courier New',monospace\"><span style=\"font-weight: bold\"> Non-trainable params: </span><span style=\"color: #00af00; text-decoration-color: #00af00\">112</span> (448.00 B)\n",
       "</pre>\n"
      ],
      "text/plain": [
       "\u001b[1m Non-trainable params: \u001b[0m\u001b[38;5;34m112\u001b[0m (448.00 B)\n"
      ]
     },
     "metadata": {},
     "output_type": "display_data"
    }
   ],
   "source": [
    "# Compilar o modelo\n",
    "model.compile(loss='binary_crossentropy', optimizer='adam', metrics=['accuracy'])\n",
    "model.summary()"
   ]
  },
  {
   "cell_type": "code",
   "execution_count": 27,
   "id": "f833a74b-ea06-4e28-accc-27787a78fd92",
   "metadata": {},
   "outputs": [],
   "source": [
    "# Caminho para salvar checkpoints\n",
    "checkpoint_filepath = 'melhor_modelo_pesos.weights.h5' "
   ]
  },
  {
   "cell_type": "code",
   "execution_count": 34,
   "id": "65283444-aed6-4134-b1e3-c7448eb06cdc",
   "metadata": {},
   "outputs": [],
   "source": [
    "# Callbacks\n",
    "checkpoint = ModelCheckpoint(\n",
    "    filepath='melhor_modelo_pesos.weights.h5',\n",
    "    monitor='val_accuracy',\n",
    "    mode='max',\n",
    "    verbose=1,\n",
    "    save_best_only=True,\n",
    "    save_weights_only=True\n",
    ")\n",
    "\n",
    "early_stopping = EarlyStopping(\n",
    "    monitor='val_accuracy',\n",
    "    patience=5,  \n",
    "    restore_best_weights=True  \n",
    ")\n",
    "\n",
    "reduce_lr = ReduceLROnPlateau(\n",
    "    monitor='val_loss',\n",
    "    factor=0.5,  \n",
    "    patience=5,  \n",
    "    min_lr=1e-05  \n",
    ")\n",
    "\n",
    "callbacks = [checkpoint, early_stopping, reduce_lr]  "
   ]
  },
  {
   "cell_type": "code",
   "execution_count": 35,
   "id": "6787e31c-1eaf-49ab-af26-e5aea4c6069c",
   "metadata": {},
   "outputs": [],
   "source": [
    "# Parâmetros de treinamento\n",
    "batch_size = 32\n",
    "nb_epoch = 100\n",
    "shuffle = True"
   ]
  },
  {
   "cell_type": "code",
   "execution_count": 36,
   "id": "9dd0747f-3405-4246-a7bb-adf526e48f6d",
   "metadata": {},
   "outputs": [
    {
     "name": "stdout",
     "output_type": "stream",
     "text": [
      "Epoch 1/50\n",
      "\u001b[1m234/235\u001b[0m \u001b[32m━━━━━━━━━━━━━━━━━━━\u001b[0m\u001b[37m━\u001b[0m \u001b[1m0s\u001b[0m 61ms/step - accuracy: 0.5263 - loss: 0.7109\n",
      "Epoch 1: val_accuracy improved from -inf to 0.61158, saving model to melhor_modelo_pesos.weights.h5\n",
      "\u001b[1m235/235\u001b[0m \u001b[32m━━━━━━━━━━━━━━━━━━━━\u001b[0m\u001b[37m\u001b[0m \u001b[1m16s\u001b[0m 64ms/step - accuracy: 0.5264 - loss: 0.7109 - val_accuracy: 0.6116 - val_loss: 0.6968 - learning_rate: 0.0010\n",
      "Epoch 2/50\n",
      "\u001b[1m234/235\u001b[0m \u001b[32m━━━━━━━━━━━━━━━━━━━\u001b[0m\u001b[37m━\u001b[0m \u001b[1m0s\u001b[0m 61ms/step - accuracy: 0.5478 - loss: 0.6948\n",
      "Epoch 2: val_accuracy did not improve from 0.61158\n",
      "\u001b[1m235/235\u001b[0m \u001b[32m━━━━━━━━━━━━━━━━━━━━\u001b[0m\u001b[37m\u001b[0m \u001b[1m15s\u001b[0m 62ms/step - accuracy: 0.5478 - loss: 0.6948 - val_accuracy: 0.5037 - val_loss: 0.7060 - learning_rate: 0.0010\n",
      "Epoch 3/50\n",
      "\u001b[1m234/235\u001b[0m \u001b[32m━━━━━━━━━━━━━━━━━━━\u001b[0m\u001b[37m━\u001b[0m \u001b[1m0s\u001b[0m 61ms/step - accuracy: 0.5769 - loss: 0.6872\n",
      "Epoch 3: val_accuracy did not improve from 0.61158\n",
      "\u001b[1m235/235\u001b[0m \u001b[32m━━━━━━━━━━━━━━━━━━━━\u001b[0m\u001b[37m\u001b[0m \u001b[1m15s\u001b[0m 62ms/step - accuracy: 0.5769 - loss: 0.6872 - val_accuracy: 0.4753 - val_loss: 0.7163 - learning_rate: 0.0010\n",
      "Epoch 4/50\n",
      "\u001b[1m234/235\u001b[0m \u001b[32m━━━━━━━━━━━━━━━━━━━\u001b[0m\u001b[37m━\u001b[0m \u001b[1m0s\u001b[0m 58ms/step - accuracy: 0.5708 - loss: 0.6840\n",
      "Epoch 4: val_accuracy did not improve from 0.61158\n",
      "\u001b[1m235/235\u001b[0m \u001b[32m━━━━━━━━━━━━━━━━━━━━\u001b[0m\u001b[37m\u001b[0m \u001b[1m14s\u001b[0m 59ms/step - accuracy: 0.5709 - loss: 0.6840 - val_accuracy: 0.5448 - val_loss: 1.0510 - learning_rate: 0.0010\n",
      "Epoch 5/50\n",
      "\u001b[1m234/235\u001b[0m \u001b[32m━━━━━━━━━━━━━━━━━━━\u001b[0m\u001b[37m━\u001b[0m \u001b[1m0s\u001b[0m 59ms/step - accuracy: 0.5794 - loss: 0.6751\n",
      "Epoch 5: val_accuracy did not improve from 0.61158\n",
      "\u001b[1m235/235\u001b[0m \u001b[32m━━━━━━━━━━━━━━━━━━━━\u001b[0m\u001b[37m\u001b[0m \u001b[1m14s\u001b[0m 60ms/step - accuracy: 0.5794 - loss: 0.6751 - val_accuracy: 0.4627 - val_loss: 0.9337 - learning_rate: 0.0010\n",
      "Epoch 6/50\n",
      "\u001b[1m234/235\u001b[0m \u001b[32m━━━━━━━━━━━━━━━━━━━\u001b[0m\u001b[37m━\u001b[0m \u001b[1m0s\u001b[0m 58ms/step - accuracy: 0.5869 - loss: 0.6721\n",
      "Epoch 6: val_accuracy did not improve from 0.61158\n",
      "\u001b[1m235/235\u001b[0m \u001b[32m━━━━━━━━━━━━━━━━━━━━\u001b[0m\u001b[37m\u001b[0m \u001b[1m14s\u001b[0m 59ms/step - accuracy: 0.5869 - loss: 0.6720 - val_accuracy: 0.5523 - val_loss: 1.0400 - learning_rate: 0.0010\n"
     ]
    }
   ],
   "source": [
    "# Treinar o modelo\n",
    "history = model.fit(\n",
    "    x=X_train,\n",
    "    y=Y_train,\n",
    "    batch_size=64,\n",
    "    epochs=50,  \n",
    "    validation_data=(X_val, Y_val),\n",
    "    shuffle=True,\n",
    "    verbose=True,\n",
    "    callbacks=callbacks\n",
    ")"
   ]
  },
  {
   "cell_type": "code",
   "execution_count": 37,
   "id": "ff7e6707-fddc-4812-b8bd-3165e3a39dd6",
   "metadata": {},
   "outputs": [],
   "source": [
    "from tensorflow.keras.models import load_model\n",
    "\n",
    "# Salvar histórico, pesos e modelo\n",
    "for i in range(10):\n",
    "    with open(f\"history_{i}.json\", \"w\") as f:\n",
    "        json.dump(history.history, f)\n",
    "\n",
    "    model.save_weights(f\"pesos_modelo_{i}.weights.h5\")\n",
    "    model.save(f\"modelo_{i}.keras\")\n",
    "\n",
    "    # Carregar modelo salvo\n",
    "    loaded_model = load_model(f\"modelo_{i}.keras\")\n",
    "\n",
    "    # Criar otimizador rmsprop\n",
    "    rmsprop = RMSprop(learning_rate=0.001, rho=0.9, epsilon=1e-07)\n",
    "\n",
    "    # Compilar o modelo com rmsprop\n",
    "    loaded_model.compile(\n",
    "        optimizer=rmsprop,\n",
    "        loss='sparse_categorical_crossentropy',\n",
    "        metrics=['accuracy']\n",
    "    )"
   ]
  },
  {
   "cell_type": "code",
   "execution_count": 38,
   "id": "fa098d83-008c-4dbb-92ad-ba96ad7d6c05",
   "metadata": {},
   "outputs": [
    {
     "name": "stdout",
     "output_type": "stream",
     "text": [
      "{'accuracy': [0.53480464220047, 0.5543406009674072, 0.5800773501396179, 0.5772769451141357, 0.5808107852935791, 0.5876783728599548], 'loss': [0.7072241306304932, 0.6952687501907349, 0.6850992441177368, 0.6826735734939575, 0.6757755875587463, 0.668907105922699], 'val_accuracy': [0.6115779876708984, 0.503734827041626, 0.4752567708492279, 0.5448179244995117, 0.46265172958374023, 0.5522875785827637], 'val_loss': [0.6967971324920654, 0.7060011029243469, 0.7163337469100952, 1.0510003566741943, 0.9337496161460876, 1.0400274991989136], 'learning_rate': [0.0010000000474974513, 0.0010000000474974513, 0.0010000000474974513, 0.0010000000474974513, 0.0010000000474974513, 0.0010000000474974513]}\n"
     ]
    }
   ],
   "source": [
    "# Imprime o histórico\n",
    "print(history.history)"
   ]
  },
  {
   "cell_type": "code",
   "execution_count": 39,
   "id": "8102dd57-67b6-4df9-a7ae-1e47125a3976",
   "metadata": {},
   "outputs": [
    {
     "data": {
      "image/png": "[encoded data removed]",
      "text/plain": [
       "<Figure size 600x400 with 1 Axes>"
      ]
     },
     "metadata": {},
     "output_type": "display_data"
    }
   ],
   "source": [
    "# Plotar histórico\n",
    "with open(\"history.json\", \"r\") as f:\n",
    "    history_data = json.load(f)\n",
    "    \n",
    "loss = history_data['loss']\n",
    "val_loss = history_data['val_loss']\n",
    "acc = history_data['accuracy']\n",
    "val_acc = history_data['val_accuracy']\n",
    "\n",
    "epochs = list(range(len(loss)))\n",
    "figsize=(6,4)\n",
    "fig, axis1 = plt.subplots(figsize=figsize)\n",
    "\n",
    "plot1_lacc = axis1.plot(epochs, acc, 'navy', label='accuracy')\n",
    "plot1_val_lacc = axis1.plot(epochs, val_acc, 'deepskyblue', label=\"validation accuracy\")\n",
    "plot1_loss = axis1.plot(epochs, loss, 'red', label='loss')\n",
    "plot1_val_loss = axis1.plot(epochs, val_loss, 'lightsalmon', label=\"validation loss\")\n",
    "\n",
    "plots = plot1_loss + plot1_val_loss + plot1_lacc + plot1_val_lacc\n",
    "labs = [l.get_label() for l in plots]\n",
    "axis1.set_xlabel('Epoch')\n",
    "axis1.set_ylabel('Loss/Accuracy')\n",
    "plt.title(\"Loss/Accuracy History (Pristine Images)\")\n",
    "plt.tight_layout()\n",
    "axis1.legend(loc='center right')\n",
    "\n",
    "plt.show()"
   ]
  },
  {
   "cell_type": "code",
   "execution_count": null,
   "id": "aeb7e9c6-bd13-4ad4-a13e-aa2861622090",
   "metadata": {},
   "outputs": [],
   "source": []
  },
  {
   "cell_type": "code",
   "execution_count": null,
   "id": "ccd8b8ad-d944-4cf1-809c-25a368608dbe",
   "metadata": {},
   "outputs": [],
   "source": []
  }
 ],
 "metadata": {
  "kernelspec": {
   "display_name": "Python 3 (ipykernel)",
   "language": "python",
   "name": "python3"
  },
  "language_info": {
   "codemirror_mode": {
    "name": "ipython",
    "version": 3
   },
   "file_extension": ".py",
   "mimetype": "text/x-python",
   "name": "python",
   "nbconvert_exporter": "python",
   "pygments_lexer": "ipython3",
   "version": "3.12.5"
  }
 },
 "nbformat": 4,
 "nbformat_minor": 5
}
