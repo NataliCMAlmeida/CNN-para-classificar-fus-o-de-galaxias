{
 "cells": [
  {
   "cell_type": "raw",
   "id": "ed07471e-7708-45b5-9747-8ee9eb46ad81",
   "metadata": {},
   "source": [
    "Carregamento de dados"
   ]
  },
  {
   "cell_type": "code",
   "execution_count": 14,
   "id": "758d107a-cd92-46e6-a073-144868837470",
   "metadata": {},
   "outputs": [
    {
     "name": "stdout",
     "output_type": "stream",
     "text": [
      "Carregando dados de Y\n"
     ]
    },
    {
     "name": "stderr",
     "output_type": "stream",
     "text": [
      "100%|██████████████████████████████████████████████████████████████████████████████████| 1/1 [00:00<00:00, 1015.08it/s]\n"
     ]
    },
    {
     "name": "stdout",
     "output_type": "stream",
     "text": [
      "Carregando dados de X\n"
     ]
    },
    {
     "name": "stderr",
     "output_type": "stream",
     "text": [
      "100%|███████████████████████████████████████████████████████████████████████████████████| 1/1 [00:00<00:00, 112.65it/s]\n"
     ]
    }
   ],
   "source": [
    "import numpy as np\n",
    "from tqdm import tqdm\n",
    "\n",
    "# Caminhos dos arquivos\n",
    "path_y = \"C:\\\\Users\\\\stefa\\\\OneDrive\\\\Documentos\\\\Natali 2\\\\SB00_augmented_y.npy\"\n",
    "path_data = \"C:\\\\Users\\\\stefa\\\\OneDrive\\\\Documentos\\\\Natali 2\\\\SB00_augmented.npy\"\n",
    "\n",
    "# Carregando dados com barra de progresso\n",
    "print(\"Carregando dados de Y\")\n",
    "with tqdm(total=1) as pbar:\n",
    "    Y = np.load(path_y)\n",
    "    pbar.update(1)\n",
    "\n",
    "print(\"Carregando dados de X\")\n",
    "with tqdm(total=1) as pbar:\n",
    "    X = np.load(path_data)\n",
    "    pbar.update(1)"
   ]
  },
  {
   "cell_type": "code",
   "execution_count": 15,
   "id": "83d528ef-2004-484e-a0aa-4b79b70c3138",
   "metadata": {},
   "outputs": [
    {
     "name": "stdout",
     "output_type": "stream",
     "text": [
      "Formato de X: (144, 2, 75, 75)\n",
      "Formato de Y: (144,)\n",
      "Tipo de dados de X: float64\n",
      "Tipo de dados de Y: float64\n"
     ]
    }
   ],
   "source": [
    "# Informações sobre os dados\n",
    "print(f\"Formato de X: {X.shape}\")\n",
    "print(f\"Formato de Y: {Y.shape}\")\n",
    "print(f\"Tipo de dados de X: {X.dtype}\")\n",
    "print(f\"Tipo de dados de Y: {Y.dtype}\")"
   ]
  },
  {
   "cell_type": "code",
   "execution_count": 17,
   "id": "7f7ed932-435b-4722-a750-f359e293bd3b",
   "metadata": {},
   "outputs": [
    {
     "name": "stdout",
     "output_type": "stream",
     "text": [
      "Dados transpostos e normalizados com sucesso!\n"
     ]
    }
   ],
   "source": [
    "# Transposição dos dados\n",
    "X = X.transpose(0, 2, 3, 1)  # Transpõe para (N, altura, largura, canais)\n",
    "\n",
    "# Normalização dos dados\n",
    "scaler = MinMaxScaler()\n",
    "X = scaler.fit_transform(X.reshape(X.shape[0], -1))  # Redimensiona para normalizar\n",
    "X = X.reshape(X.shape[0], 75, 75, 2)  # Retorna para a forma original\n",
    "\n",
    "print(\"Dados transpostos e normalizados com sucesso!\")"
   ]
  },
  {
   "cell_type": "code",
   "execution_count": 18,
   "id": "0aa770fd-02cb-4abf-ad9b-5b47a6c46f64",
   "metadata": {},
   "outputs": [],
   "source": [
    "# Verificação da integridade dos dados\n",
    "assert len(X_train) == len(Y_train), \"Número de amostras em X_train e Y_train não coincidem\"\n",
    "assert len(X_test) == len(Y_test), \"Número de amostras em X_test e Y_test não coincidem\"\n",
    "assert len(X_val) == len(Y_val), \"Número de amostras em X_val e Y_val não coincidem\""
   ]
  },
  {
   "cell_type": "code",
   "execution_count": 19,
   "id": "a6d39d44-b955-4823-8808-858eef7d586e",
   "metadata": {},
   "outputs": [],
   "source": [
    "# Divisão dos dados em treino, teste e validação\n",
    "X_train, X_test, Y_train, Y_test = train_test_split(X, Y, test_size=0.2, random_state=random_seed)\n",
    "X_train, X_val, Y_train, Y_val = train_test_split(X_train, Y_train, test_size=0.125, random_state=random_seed)"
   ]
  },
  {
   "cell_type": "code",
   "execution_count": 20,
   "id": "0de60637-9813-4c4c-9f88-4fbfd4ebc2cb",
   "metadata": {},
   "outputs": [],
   "source": [
    "# Embaralhamento dos dados\n",
    "random_seed = 42\n",
    "X, Y = shuffle(X, Y, random_state=random_seed)"
   ]
  },
  {
   "cell_type": "code",
   "execution_count": 21,
   "id": "f3a279b0-274e-428e-bf9c-140b1483b464",
   "metadata": {},
   "outputs": [
    {
     "name": "stdout",
     "output_type": "stream",
     "text": [
      "Dimensões finais de X_train: (100, 75, 75, 2)\n",
      "Dimensões finais de Y_train: (100,)\n",
      "Dimensões finais de X_test: (29, 75, 75, 2)\n",
      "Dimensões finais de Y_test: (29,)\n",
      "Dimensões finais de X_val: (15, 75, 75, 2)\n",
      "Dimensões finais de Y_val: (15,)\n"
     ]
    }
   ],
   "source": [
    "# Impressão das dimensões finais dos dados\n",
    "print(f\"Dimensões finais de X_train: {X_train.shape}\")\n",
    "print(f\"Dimensões finais de Y_train: {Y_train.shape}\")\n",
    "print(f\"Dimensões finais de X_test: {X_test.shape}\")\n",
    "print(f\"Dimensões finais de Y_test: {Y_test.shape}\")\n",
    "print(f\"Dimensões finais de X_val: {X_val.shape}\")\n",
    "print(f\"Dimensões finais de Y_val: {Y_val.shape}\")"
   ]
  },
  {
   "cell_type": "code",
   "execution_count": 22,
   "id": "8af026cd-efa8-40e8-b70f-f35e78626347",
   "metadata": {},
   "outputs": [
    {
     "name": "stdout",
     "output_type": "stream",
     "text": [
      "Dados pré-processados salvos com sucesso!\n"
     ]
    }
   ],
   "source": [
    "# Salvar os dados pré-processados\n",
    "np.save(\"X_train.npy\", X_train)\n",
    "np.save(\"Y_train.npy\", Y_train)\n",
    "np.save(\"X_test.npy\", X_test)\n",
    "np.save(\"Y_test.npy\", Y_test)\n",
    "np.save(\"X_val.npy\", X_val)\n",
    "np.save(\"Y_val.npy\", Y_val)\n",
    "\n",
    "print(\"Dados pré-processados salvos com sucesso!\")"
   ]
  },
  {
   "cell_type": "raw",
   "id": "449c11cc-221b-485e-96e3-b36ca00eefb8",
   "metadata": {},
   "source": [
    "Arquitetura do sistema "
   ]
  },
  {
   "cell_type": "code",
   "execution_count": 25,
   "id": "ffff17bb-3a0b-4753-96fb-1f2ecaf26caa",
   "metadata": {},
   "outputs": [],
   "source": [
    "import tensorflow as tf\n",
    "from tensorflow.keras.models import Model\n",
    "from tensorflow.keras.layers import Input\n",
    "from tensorflow.keras.layers import Conv2D, BatchNormalization, MaxPooling2D, Dropout, Flatten, Dense\n",
    "from tensorflow.keras import regularizers\n",
    "from tensorflow.keras.callbacks import ModelCheckpoint, EarlyStopping, ReduceLROnPlateau"
   ]
  },
  {
   "cell_type": "code",
   "execution_count": 26,
   "id": "bd3a31a6-c659-41e7-b49d-3513fdb25911",
   "metadata": {},
   "outputs": [],
   "source": [
    "# Define the model input shape\n",
    "input_shape = (75, 75, 2)  # Adjust to your data shape\n",
    "input_tensor = Input(shape=input_shape)"
   ]
  },
  {
   "cell_type": "code",
   "execution_count": 27,
   "id": "47d56e3f-7c08-48b5-bea9-fa53a9b9acc7",
   "metadata": {},
   "outputs": [],
   "source": [
    "#RC deve substituir uma ou mais dessas camadas\n",
    "\n",
    "# Convolutional layers\n",
    "x = Conv2D(8, (5, 5), activation='relu', strides=(1, 1), padding='same', data_format='channels_last', kernel_regularizer=regularizers.l2(0.0001))(input_tensor)\n",
    "x = BatchNormalization()(x)\n",
    "x = MaxPooling2D(pool_size=(2, 2), padding='same', data_format='channels_last')(x)\n",
    "x = Dropout(0.2)(x)\n",
    "\n",
    "x = Conv2D(16, (3, 3), activation='relu', strides=(1, 1), padding='same', data_format='channels_last', kernel_regularizer=regularizers.l2(0.0001))(x)\n",
    "x = BatchNormalization()(x)\n",
    "x = MaxPooling2D(pool_size=(2, 2), padding='same', data_format='channels_last')(x)\n",
    "x = Dropout(0.3)(x)\n",
    "\n",
    "x = Conv2D(32, (3, 3), activation='relu', strides=(1, 1), padding='same', data_format='channels_last', kernel_regularizer=regularizers.l2(0.0001))(x)\n",
    "x = BatchNormalization()(x)\n",
    "x = MaxPooling2D(pool_size=(2, 2), padding='same', data_format='channels_last')(x)\n",
    "x = Dropout(0.4)(x)\n",
    "\n",
    "# Dense layers\n",
    "x = Flatten()(x)\n",
    "x = Dense(64, activation='relu', kernel_regularizer=regularizers.l2(0.0001))(x)\n",
    "x = Dropout(0.5)(x)\n",
    "x = Dense(32, activation='relu', kernel_regularizer=regularizers.l2(0.0001))(x)\n",
    "x = Dropout(0.5)(x)\n",
    "\n",
    "# Output layer\n",
    "output_tensor = Dense(1, activation='sigmoid')(x)\n",
    "\n",
    "# Create the model\n",
    "model = Model(inputs=input_tensor, outputs=output_tensor)"
   ]
  },
  {
   "cell_type": "code",
   "execution_count": 30,
   "id": "ecd564bd-6b17-4fe7-bd7b-c40df1abe4f6",
   "metadata": {},
   "outputs": [],
   "source": [
    "from tensorflow.keras.optimizers import Adam  # Importando Adam\n",
    "\n",
    "# Parâmetros de compilação\n",
    "optimizer = Adam()\n",
    "metrics = ['accuracy']\n",
    "loss = 'binary_crossentropy'"
   ]
  },
  {
   "cell_type": "code",
   "execution_count": 31,
   "id": "f1431ceb-58a7-4d3e-8283-6163f96b15ab",
   "metadata": {},
   "outputs": [],
   "source": [
    "# Compile the model\n",
    "model.compile(optimizer='adam', loss='binary_crossentropy', metrics=['accuracy'])"
   ]
  },
  {
   "cell_type": "code",
   "execution_count": 39,
   "id": "f833a74b-ea06-4e28-accc-27787a78fd92",
   "metadata": {},
   "outputs": [],
   "source": [
    "# Caminho para salvar checkpoints\n",
    "checkpoint_filepath = 'melhor_modelo_pesos.weights.keras'"
   ]
  },
  {
   "cell_type": "code",
   "execution_count": 40,
   "id": "65283444-aed6-4134-b1e3-c7448eb06cdc",
   "metadata": {},
   "outputs": [],
   "source": [
    "# Callbacks\n",
    "checkpoint = ModelCheckpoint(\n",
    "    filepath='melhor_modelo_pesos.weights.keras',\n",
    "    monitor='val_accuracy',\n",
    "    mode='max',\n",
    "    verbose=1,\n",
    "    save_best_only=True,\n",
    ")\n",
    "\n",
    "early_stopping = EarlyStopping(\n",
    "    monitor='val_loss',\n",
    "    mode='min',\n",
    "    verbose=1,\n",
    "    patience=50,  # Stop training if validation accuracy doesn't improve for 5 epochs\n",
    "    restore_best_weights=True  # Restore the best model weights after stopping\n",
    ")\n",
    "\n",
    "reduce_lr = ReduceLROnPlateau(\n",
    "    monitor='val_loss',  # Monitor the validation loss to trigger learning rate reduction\n",
    "    factor=0.5,  # Reduce the learning rate by a factor of 0.5\n",
    "    patience=50,  # Reduce the learning rate if validation loss doesn't improve for 5 epochs\n",
    "    min_lr=1e-05  # Minimum learning rate to prevent it from becoming too small\n",
    ")\n",
    "\n",
    "#Combine callbacks into a list:\n",
    "callbacks = [checkpoint, early_stopping, reduce_lr]"
   ]
  },
  {
   "cell_type": "code",
   "execution_count": 41,
   "id": "29d5b6b8-4f70-4b5d-bb54-5ced448ea218",
   "metadata": {},
   "outputs": [
    {
     "name": "stdout",
     "output_type": "stream",
     "text": [
      "Formato de X_train: (100, 75, 75, 2)\n",
      "Formato de Y_train: (100,)\n",
      "Formato de X_val: (15, 75, 75, 2)\n",
      "Formato de Y_val: (15,)\n",
      "Formato de X_test: (29, 75, 75, 2)\n",
      "Formato de Y_test: (29,)\n"
     ]
    }
   ],
   "source": [
    "# Carregar dados pré-processados\n",
    "X_train = np.load(\"X_train.npy\")\n",
    "Y_train = np.load(\"Y_train.npy\")\n",
    "X_val = np.load(\"X_val.npy\")\n",
    "Y_val = np.load(\"Y_val.npy\")\n",
    "X_test = np.load(\"X_test.npy\")\n",
    "Y_test = np.load(\"Y_test.npy\")\n",
    "\n",
    "# Imprimir formatos dos dados\n",
    "print(\"Formato de X_train:\", X_train.shape)\n",
    "print(\"Formato de Y_train:\", Y_train.shape)\n",
    "print(\"Formato de X_val:\", X_val.shape)\n",
    "print(\"Formato de Y_val:\", Y_val.shape)\n",
    "print(\"Formato de X_test:\", X_test.shape)\n",
    "print(\"Formato de Y_test:\", Y_test.shape)"
   ]
  },
  {
   "cell_type": "code",
   "execution_count": 42,
   "id": "9dd0747f-3405-4246-a7bb-adf526e48f6d",
   "metadata": {},
   "outputs": [
    {
     "name": "stdout",
     "output_type": "stream",
     "text": [
      "Epoch 1/50\n",
      "\u001b[1m3/4\u001b[0m \u001b[32m━━━━━━━━━━━━━━━\u001b[0m\u001b[37m━━━━━\u001b[0m \u001b[1m0s\u001b[0m 36ms/step - accuracy: 0.9184 - loss: 0.6924 \n",
      "Epoch 1: val_accuracy improved from -inf to 0.66667, saving model to melhor_modelo_pesos.weights.keras\n",
      "\u001b[1m4/4\u001b[0m \u001b[32m━━━━━━━━━━━━━━━━━━━━\u001b[0m\u001b[37m\u001b[0m \u001b[1m0s\u001b[0m 63ms/step - accuracy: 0.9230 - loss: 0.6439 - val_accuracy: 0.6667 - val_loss: 0.6989 - learning_rate: 5.0000e-04\n",
      "Epoch 2/50\n",
      "\u001b[1m3/4\u001b[0m \u001b[32m━━━━━━━━━━━━━━━\u001b[0m\u001b[37m━━━━━\u001b[0m \u001b[1m0s\u001b[0m 36ms/step - accuracy: 0.8889 - loss: 0.3797\n",
      "Epoch 2: val_accuracy did not improve from 0.66667\n",
      "\u001b[1m4/4\u001b[0m \u001b[32m━━━━━━━━━━━━━━━━━━━━\u001b[0m\u001b[37m\u001b[0m \u001b[1m0s\u001b[0m 37ms/step - accuracy: 0.8853 - loss: 0.4282 - val_accuracy: 0.2667 - val_loss: 0.7153 - learning_rate: 5.0000e-04\n",
      "Epoch 3/50\n",
      "\u001b[1m2/4\u001b[0m \u001b[32m━━━━━━━━━━\u001b[0m\u001b[37m━━━━━━━━━━\u001b[0m \u001b[1m0s\u001b[0m 51ms/step - accuracy: 0.9375 - loss: 0.5844\n",
      "Epoch 3: val_accuracy did not improve from 0.66667\n",
      "\u001b[1m4/4\u001b[0m \u001b[32m━━━━━━━━━━━━━━━━━━━━\u001b[0m\u001b[37m\u001b[0m \u001b[1m0s\u001b[0m 40ms/step - accuracy: 0.9324 - loss: 0.5299 - val_accuracy: 0.0667 - val_loss: 0.7283 - learning_rate: 5.0000e-04\n",
      "Epoch 4/50\n",
      "\u001b[1m3/4\u001b[0m \u001b[32m━━━━━━━━━━━━━━━\u001b[0m\u001b[37m━━━━━\u001b[0m \u001b[1m0s\u001b[0m 37ms/step - accuracy: 0.9028 - loss: 0.3381\n",
      "Epoch 4: val_accuracy did not improve from 0.66667\n",
      "\u001b[1m4/4\u001b[0m \u001b[32m━━━━━━━━━━━━━━━━━━━━\u001b[0m\u001b[37m\u001b[0m \u001b[1m0s\u001b[0m 36ms/step - accuracy: 0.9137 - loss: 0.3158 - val_accuracy: 0.0667 - val_loss: 0.7406 - learning_rate: 5.0000e-04\n",
      "Epoch 5/50\n",
      "\u001b[1m3/4\u001b[0m \u001b[32m━━━━━━━━━━━━━━━\u001b[0m\u001b[37m━━━━━\u001b[0m \u001b[1m0s\u001b[0m 35ms/step - accuracy: 0.9323 - loss: 0.4511\n",
      "Epoch 5: val_accuracy did not improve from 0.66667\n",
      "\u001b[1m4/4\u001b[0m \u001b[32m━━━━━━━━━━━━━━━━━━━━\u001b[0m\u001b[37m\u001b[0m \u001b[1m0s\u001b[0m 37ms/step - accuracy: 0.9314 - loss: 0.4525 - val_accuracy: 0.0000e+00 - val_loss: 0.7543 - learning_rate: 5.0000e-04\n",
      "Epoch 6/50\n",
      "\u001b[1m3/4\u001b[0m \u001b[32m━━━━━━━━━━━━━━━\u001b[0m\u001b[37m━━━━━\u001b[0m \u001b[1m0s\u001b[0m 38ms/step - accuracy: 0.9688 - loss: 0.2291\n",
      "Epoch 6: val_accuracy did not improve from 0.66667\n",
      "\u001b[1m4/4\u001b[0m \u001b[32m━━━━━━━━━━━━━━━━━━━━\u001b[0m\u001b[37m\u001b[0m \u001b[1m0s\u001b[0m 34ms/step - accuracy: 0.9572 - loss: 0.2606 - val_accuracy: 0.0000e+00 - val_loss: 0.7774 - learning_rate: 5.0000e-04\n",
      "Epoch 7/50\n",
      "\u001b[1m3/4\u001b[0m \u001b[32m━━━━━━━━━━━━━━━\u001b[0m\u001b[37m━━━━━\u001b[0m \u001b[1m0s\u001b[0m 32ms/step - accuracy: 0.9566 - loss: 0.1863\n",
      "Epoch 7: val_accuracy did not improve from 0.66667\n",
      "\u001b[1m4/4\u001b[0m \u001b[32m━━━━━━━━━━━━━━━━━━━━\u001b[0m\u001b[37m\u001b[0m \u001b[1m0s\u001b[0m 34ms/step - accuracy: 0.9540 - loss: 0.1897 - val_accuracy: 0.0000e+00 - val_loss: 0.8083 - learning_rate: 5.0000e-04\n",
      "Epoch 8/50\n",
      "\u001b[1m3/4\u001b[0m \u001b[32m━━━━━━━━━━━━━━━\u001b[0m\u001b[37m━━━━━\u001b[0m \u001b[1m0s\u001b[0m 38ms/step - accuracy: 0.8628 - loss: 0.3185\n",
      "Epoch 8: val_accuracy did not improve from 0.66667\n",
      "\u001b[1m4/4\u001b[0m \u001b[32m━━━━━━━━━━━━━━━━━━━━\u001b[0m\u001b[37m\u001b[0m \u001b[1m0s\u001b[0m 37ms/step - accuracy: 0.8737 - loss: 0.3340 - val_accuracy: 0.0000e+00 - val_loss: 0.8429 - learning_rate: 5.0000e-04\n",
      "Epoch 9/50\n",
      "\u001b[1m3/4\u001b[0m \u001b[32m━━━━━━━━━━━━━━━\u001b[0m\u001b[37m━━━━━\u001b[0m \u001b[1m0s\u001b[0m 37ms/step - accuracy: 0.9184 - loss: 0.3235\n",
      "Epoch 9: val_accuracy did not improve from 0.66667\n",
      "\u001b[1m4/4\u001b[0m \u001b[32m━━━━━━━━━━━━━━━━━━━━\u001b[0m\u001b[37m\u001b[0m \u001b[1m0s\u001b[0m 35ms/step - accuracy: 0.9230 - loss: 0.2867 - val_accuracy: 0.0000e+00 - val_loss: 0.8777 - learning_rate: 5.0000e-04\n",
      "Epoch 10/50\n",
      "\u001b[1m3/4\u001b[0m \u001b[32m━━━━━━━━━━━━━━━\u001b[0m\u001b[37m━━━━━\u001b[0m \u001b[1m0s\u001b[0m 38ms/step - accuracy: 0.9566 - loss: 0.2337\n",
      "Epoch 10: val_accuracy did not improve from 0.66667\n",
      "\u001b[1m4/4\u001b[0m \u001b[32m━━━━━━━━━━━━━━━━━━━━\u001b[0m\u001b[37m\u001b[0m \u001b[1m0s\u001b[0m 40ms/step - accuracy: 0.9540 - loss: 0.2542 - val_accuracy: 0.0000e+00 - val_loss: 0.9116 - learning_rate: 5.0000e-04\n",
      "Epoch 11/50\n",
      "\u001b[1m3/4\u001b[0m \u001b[32m━━━━━━━━━━━━━━━\u001b[0m\u001b[37m━━━━━\u001b[0m \u001b[1m0s\u001b[0m 42ms/step - accuracy: 0.9219 - loss: 0.3149\n",
      "Epoch 11: val_accuracy did not improve from 0.66667\n",
      "\u001b[1m4/4\u001b[0m \u001b[32m━━━━━━━━━━━━━━━━━━━━\u001b[0m\u001b[37m\u001b[0m \u001b[1m0s\u001b[0m 39ms/step - accuracy: 0.9291 - loss: 0.3070 - val_accuracy: 0.0000e+00 - val_loss: 0.9449 - learning_rate: 5.0000e-04\n",
      "Epoch 12/50\n",
      "\u001b[1m3/4\u001b[0m \u001b[32m━━━━━━━━━━━━━━━\u001b[0m\u001b[37m━━━━━\u001b[0m \u001b[1m0s\u001b[0m 31ms/step - accuracy: 0.9497 - loss: 0.2461\n",
      "Epoch 12: val_accuracy did not improve from 0.66667\n",
      "\u001b[1m4/4\u001b[0m \u001b[32m━━━━━━━━━━━━━━━━━━━━\u001b[0m\u001b[37m\u001b[0m \u001b[1m0s\u001b[0m 35ms/step - accuracy: 0.9538 - loss: 0.2276 - val_accuracy: 0.0000e+00 - val_loss: 0.9720 - learning_rate: 5.0000e-04\n",
      "Epoch 13/50\n",
      "\u001b[1m3/4\u001b[0m \u001b[32m━━━━━━━━━━━━━━━\u001b[0m\u001b[37m━━━━━\u001b[0m \u001b[1m0s\u001b[0m 34ms/step - accuracy: 0.9271 - loss: 0.3296\n",
      "Epoch 13: val_accuracy did not improve from 0.66667\n",
      "\u001b[1m4/4\u001b[0m \u001b[32m━━━━━━━━━━━━━━━━━━━━\u001b[0m\u001b[37m\u001b[0m \u001b[1m0s\u001b[0m 35ms/step - accuracy: 0.9323 - loss: 0.3142 - val_accuracy: 0.0000e+00 - val_loss: 0.9959 - learning_rate: 5.0000e-04\n",
      "Epoch 14/50\n",
      "\u001b[1m3/4\u001b[0m \u001b[32m━━━━━━━━━━━━━━━\u001b[0m\u001b[37m━━━━━\u001b[0m \u001b[1m0s\u001b[0m 28ms/step - accuracy: 0.9236 - loss: 0.4937\n",
      "Epoch 14: val_accuracy did not improve from 0.66667\n",
      "\u001b[1m4/4\u001b[0m \u001b[32m━━━━━━━━━━━━━━━━━━━━\u001b[0m\u001b[37m\u001b[0m \u001b[1m0s\u001b[0m 30ms/step - accuracy: 0.9382 - loss: 0.4123 - val_accuracy: 0.0000e+00 - val_loss: 1.0242 - learning_rate: 5.0000e-04\n",
      "Epoch 15/50\n",
      "\u001b[1m3/4\u001b[0m \u001b[32m━━━━━━━━━━━━━━━\u001b[0m\u001b[37m━━━━━\u001b[0m \u001b[1m0s\u001b[0m 35ms/step - accuracy: 0.9670 - loss: 0.1405\n",
      "Epoch 15: val_accuracy did not improve from 0.66667\n",
      "\u001b[1m4/4\u001b[0m \u001b[32m━━━━━━━━━━━━━━━━━━━━\u001b[0m\u001b[37m\u001b[0m \u001b[1m0s\u001b[0m 32ms/step - accuracy: 0.9602 - loss: 0.1621 - val_accuracy: 0.0000e+00 - val_loss: 1.0569 - learning_rate: 5.0000e-04\n",
      "Epoch 16/50\n",
      "\u001b[1m3/4\u001b[0m \u001b[32m━━━━━━━━━━━━━━━\u001b[0m\u001b[37m━━━━━\u001b[0m \u001b[1m0s\u001b[0m 32ms/step - accuracy: 0.9653 - loss: 0.1290\n",
      "Epoch 16: val_accuracy did not improve from 0.66667\n",
      "\u001b[1m4/4\u001b[0m \u001b[32m━━━━━━━━━━━━━━━━━━━━\u001b[0m\u001b[37m\u001b[0m \u001b[1m0s\u001b[0m 32ms/step - accuracy: 0.9632 - loss: 0.1518 - val_accuracy: 0.0000e+00 - val_loss: 1.0859 - learning_rate: 5.0000e-04\n",
      "Epoch 17/50\n",
      "\u001b[1m3/4\u001b[0m \u001b[32m━━━━━━━━━━━━━━━\u001b[0m\u001b[37m━━━━━\u001b[0m \u001b[1m0s\u001b[0m 38ms/step - accuracy: 0.9410 - loss: 0.1743\n",
      "Epoch 17: val_accuracy did not improve from 0.66667\n",
      "\u001b[1m4/4\u001b[0m \u001b[32m━━━━━━━━━━━━━━━━━━━━\u001b[0m\u001b[37m\u001b[0m \u001b[1m0s\u001b[0m 38ms/step - accuracy: 0.9446 - loss: 0.1807 - val_accuracy: 0.0000e+00 - val_loss: 1.1100 - learning_rate: 5.0000e-04\n",
      "Epoch 18/50\n",
      "\u001b[1m3/4\u001b[0m \u001b[32m━━━━━━━━━━━━━━━\u001b[0m\u001b[37m━━━━━\u001b[0m \u001b[1m0s\u001b[0m 35ms/step - accuracy: 0.9514 - loss: 0.1721\n",
      "Epoch 18: val_accuracy did not improve from 0.66667\n",
      "\u001b[1m4/4\u001b[0m \u001b[32m━━━━━━━━━━━━━━━━━━━━\u001b[0m\u001b[37m\u001b[0m \u001b[1m0s\u001b[0m 33ms/step - accuracy: 0.9508 - loss: 0.1817 - val_accuracy: 0.0000e+00 - val_loss: 1.1338 - learning_rate: 5.0000e-04\n",
      "Epoch 19/50\n",
      "\u001b[1m3/4\u001b[0m \u001b[32m━━━━━━━━━━━━━━━\u001b[0m\u001b[37m━━━━━\u001b[0m \u001b[1m0s\u001b[0m 31ms/step - accuracy: 0.9670 - loss: 0.1293\n",
      "Epoch 19: val_accuracy did not improve from 0.66667\n",
      "\u001b[1m4/4\u001b[0m \u001b[32m━━━━━━━━━━━━━━━━━━━━\u001b[0m\u001b[37m\u001b[0m \u001b[1m0s\u001b[0m 32ms/step - accuracy: 0.9602 - loss: 0.1438 - val_accuracy: 0.0000e+00 - val_loss: 1.1575 - learning_rate: 5.0000e-04\n",
      "Epoch 20/50\n",
      "\u001b[1m3/4\u001b[0m \u001b[32m━━━━━━━━━━━━━━━\u001b[0m\u001b[37m━━━━━\u001b[0m \u001b[1m0s\u001b[0m 61ms/step - accuracy: 0.9583 - loss: 0.1188\n",
      "Epoch 20: val_accuracy did not improve from 0.66667\n",
      "\u001b[1m4/4\u001b[0m \u001b[32m━━━━━━━━━━━━━━━━━━━━\u001b[0m\u001b[37m\u001b[0m \u001b[1m0s\u001b[0m 59ms/step - accuracy: 0.9630 - loss: 0.1106 - val_accuracy: 0.0000e+00 - val_loss: 1.1806 - learning_rate: 5.0000e-04\n",
      "Epoch 21/50\n",
      "\u001b[1m3/4\u001b[0m \u001b[32m━━━━━━━━━━━━━━━\u001b[0m\u001b[37m━━━━━\u001b[0m \u001b[1m0s\u001b[0m 32ms/step - accuracy: 0.9722 - loss: 0.1380\n",
      "Epoch 21: val_accuracy did not improve from 0.66667\n",
      "\u001b[1m4/4\u001b[0m \u001b[32m━━━━━━━━━━━━━━━━━━━━\u001b[0m\u001b[37m\u001b[0m \u001b[1m0s\u001b[0m 33ms/step - accuracy: 0.9753 - loss: 0.1368 - val_accuracy: 0.0000e+00 - val_loss: 1.1942 - learning_rate: 5.0000e-04\n",
      "Epoch 22/50\n",
      "\u001b[1m3/4\u001b[0m \u001b[32m━━━━━━━━━━━━━━━\u001b[0m\u001b[37m━━━━━\u001b[0m \u001b[1m0s\u001b[0m 31ms/step - accuracy: 0.9427 - loss: 0.2156\n",
      "Epoch 22: val_accuracy did not improve from 0.66667\n",
      "\u001b[1m4/4\u001b[0m \u001b[32m━━━━━━━━━━━━━━━━━━━━\u001b[0m\u001b[37m\u001b[0m \u001b[1m0s\u001b[0m 27ms/step - accuracy: 0.9376 - loss: 0.2238 - val_accuracy: 0.0000e+00 - val_loss: 1.2022 - learning_rate: 5.0000e-04\n",
      "Epoch 23/50\n",
      "\u001b[1m3/4\u001b[0m \u001b[32m━━━━━━━━━━━━━━━\u001b[0m\u001b[37m━━━━━\u001b[0m \u001b[1m0s\u001b[0m 35ms/step - accuracy: 0.9444 - loss: 0.2250\n",
      "Epoch 23: val_accuracy did not improve from 0.66667\n",
      "\u001b[1m4/4\u001b[0m \u001b[32m━━━━━━━━━━━━━━━━━━━━\u001b[0m\u001b[37m\u001b[0m \u001b[1m0s\u001b[0m 35ms/step - accuracy: 0.9507 - loss: 0.1960 - val_accuracy: 0.0000e+00 - val_loss: 1.1869 - learning_rate: 5.0000e-04\n",
      "Epoch 24/50\n",
      "\u001b[1m3/4\u001b[0m \u001b[32m━━━━━━━━━━━━━━━\u001b[0m\u001b[37m━━━━━\u001b[0m \u001b[1m0s\u001b[0m 37ms/step - accuracy: 0.9653 - loss: 0.1640\n",
      "Epoch 24: val_accuracy did not improve from 0.66667\n",
      "\u001b[1m4/4\u001b[0m \u001b[32m━━━━━━━━━━━━━━━━━━━━\u001b[0m\u001b[37m\u001b[0m \u001b[1m0s\u001b[0m 35ms/step - accuracy: 0.9632 - loss: 0.1665 - val_accuracy: 0.0000e+00 - val_loss: 1.1816 - learning_rate: 5.0000e-04\n",
      "Epoch 25/50\n",
      "\u001b[1m3/4\u001b[0m \u001b[32m━━━━━━━━━━━━━━━\u001b[0m\u001b[37m━━━━━\u001b[0m \u001b[1m0s\u001b[0m 37ms/step - accuracy: 0.9688 - loss: 0.1287\n",
      "Epoch 25: val_accuracy did not improve from 0.66667\n",
      "\u001b[1m4/4\u001b[0m \u001b[32m━━━━━━━━━━━━━━━━━━━━\u001b[0m\u001b[37m\u001b[0m \u001b[1m0s\u001b[0m 36ms/step - accuracy: 0.9653 - loss: 0.1300 - val_accuracy: 0.0000e+00 - val_loss: 1.1877 - learning_rate: 5.0000e-04\n",
      "Epoch 26/50\n",
      "\u001b[1m3/4\u001b[0m \u001b[32m━━━━━━━━━━━━━━━\u001b[0m\u001b[37m━━━━━\u001b[0m \u001b[1m0s\u001b[0m 28ms/step - accuracy: 0.9688 - loss: 0.1487\n",
      "Epoch 26: val_accuracy did not improve from 0.66667\n",
      "\u001b[1m4/4\u001b[0m \u001b[32m━━━━━━━━━━━━━━━━━━━━\u001b[0m\u001b[37m\u001b[0m \u001b[1m0s\u001b[0m 32ms/step - accuracy: 0.9653 - loss: 0.1762 - val_accuracy: 0.0000e+00 - val_loss: 1.2152 - learning_rate: 5.0000e-04\n",
      "Epoch 27/50\n",
      "\u001b[1m3/4\u001b[0m \u001b[32m━━━━━━━━━━━━━━━\u001b[0m\u001b[37m━━━━━\u001b[0m \u001b[1m0s\u001b[0m 33ms/step - accuracy: 0.9774 - loss: 0.1395\n",
      "Epoch 27: val_accuracy did not improve from 0.66667\n",
      "\u001b[1m4/4\u001b[0m \u001b[32m━━━━━━━━━━━━━━━━━━━━\u001b[0m\u001b[37m\u001b[0m \u001b[1m0s\u001b[0m 34ms/step - accuracy: 0.9785 - loss: 0.1321 - val_accuracy: 0.0000e+00 - val_loss: 1.2458 - learning_rate: 5.0000e-04\n",
      "Epoch 28/50\n",
      "\u001b[1m3/4\u001b[0m \u001b[32m━━━━━━━━━━━━━━━\u001b[0m\u001b[37m━━━━━\u001b[0m \u001b[1m0s\u001b[0m 29ms/step - accuracy: 0.9653 - loss: 0.2215\n",
      "Epoch 28: val_accuracy did not improve from 0.66667\n",
      "\u001b[1m4/4\u001b[0m \u001b[32m━━━━━━━━━━━━━━━━━━━━\u001b[0m\u001b[37m\u001b[0m \u001b[1m0s\u001b[0m 26ms/step - accuracy: 0.9632 - loss: 0.2134 - val_accuracy: 0.0000e+00 - val_loss: 1.2644 - learning_rate: 5.0000e-04\n",
      "Epoch 29/50\n",
      "\u001b[1m4/4\u001b[0m \u001b[32m━━━━━━━━━━━━━━━━━━━━\u001b[0m\u001b[37m\u001b[0m \u001b[1m0s\u001b[0m 21ms/step - accuracy: 0.9278 - loss: 0.2172\n",
      "Epoch 29: val_accuracy did not improve from 0.66667\n",
      "\u001b[1m4/4\u001b[0m \u001b[32m━━━━━━━━━━━━━━━━━━━━\u001b[0m\u001b[37m\u001b[0m \u001b[1m0s\u001b[0m 29ms/step - accuracy: 0.9283 - loss: 0.2104 - val_accuracy: 0.0000e+00 - val_loss: 1.2837 - learning_rate: 5.0000e-04\n",
      "Epoch 30/50\n",
      "\u001b[1m3/4\u001b[0m \u001b[32m━━━━━━━━━━━━━━━\u001b[0m\u001b[37m━━━━━\u001b[0m \u001b[1m0s\u001b[0m 37ms/step - accuracy: 0.9444 - loss: 0.2008\n",
      "Epoch 30: val_accuracy did not improve from 0.66667\n",
      "\u001b[1m4/4\u001b[0m \u001b[32m━━━━━━━━━━━━━━━━━━━━\u001b[0m\u001b[37m\u001b[0m \u001b[1m0s\u001b[0m 37ms/step - accuracy: 0.9507 - loss: 0.1870 - val_accuracy: 0.0000e+00 - val_loss: 1.3175 - learning_rate: 5.0000e-04\n",
      "Epoch 31/50\n",
      "\u001b[1m3/4\u001b[0m \u001b[32m━━━━━━━━━━━━━━━\u001b[0m\u001b[37m━━━━━\u001b[0m \u001b[1m0s\u001b[0m 37ms/step - accuracy: 0.9427 - loss: 0.1355\n",
      "Epoch 31: val_accuracy did not improve from 0.66667\n",
      "\u001b[1m4/4\u001b[0m \u001b[32m━━━━━━━━━━━━━━━━━━━━\u001b[0m\u001b[37m\u001b[0m \u001b[1m0s\u001b[0m 36ms/step - accuracy: 0.9416 - loss: 0.1423 - val_accuracy: 0.0000e+00 - val_loss: 1.3573 - learning_rate: 5.0000e-04\n",
      "Epoch 32/50\n",
      "\u001b[1m3/4\u001b[0m \u001b[32m━━━━━━━━━━━━━━━\u001b[0m\u001b[37m━━━━━\u001b[0m \u001b[1m0s\u001b[0m 27ms/step - accuracy: 0.9497 - loss: 0.2149\n",
      "Epoch 32: val_accuracy did not improve from 0.66667\n",
      "\u001b[1m4/4\u001b[0m \u001b[32m━━━━━━━━━━━━━━━━━━━━\u001b[0m\u001b[37m\u001b[0m \u001b[1m0s\u001b[0m 30ms/step - accuracy: 0.9538 - loss: 0.2177 - val_accuracy: 0.0000e+00 - val_loss: 1.3986 - learning_rate: 5.0000e-04\n",
      "Epoch 33/50\n",
      "\u001b[1m3/4\u001b[0m \u001b[32m━━━━━━━━━━━━━━━\u001b[0m\u001b[37m━━━━━\u001b[0m \u001b[1m0s\u001b[0m 35ms/step - accuracy: 0.9878 - loss: 0.0825\n",
      "Epoch 33: val_accuracy did not improve from 0.66667\n",
      "\u001b[1m4/4\u001b[0m \u001b[32m━━━━━━━━━━━━━━━━━━━━\u001b[0m\u001b[37m\u001b[0m \u001b[1m0s\u001b[0m 35ms/step - accuracy: 0.9807 - loss: 0.0976 - val_accuracy: 0.0000e+00 - val_loss: 1.4496 - learning_rate: 5.0000e-04\n",
      "Epoch 34/50\n",
      "\u001b[1m3/4\u001b[0m \u001b[32m━━━━━━━━━━━━━━━\u001b[0m\u001b[37m━━━━━\u001b[0m \u001b[1m0s\u001b[0m 36ms/step - accuracy: 0.9635 - loss: 0.1241\n",
      "Epoch 34: val_accuracy did not improve from 0.66667\n",
      "\u001b[1m4/4\u001b[0m \u001b[32m━━━━━━━━━━━━━━━━━━━━\u001b[0m\u001b[37m\u001b[0m \u001b[1m0s\u001b[0m 35ms/step - accuracy: 0.9661 - loss: 0.1173 - val_accuracy: 0.0000e+00 - val_loss: 1.5083 - learning_rate: 5.0000e-04\n",
      "Epoch 35/50\n",
      "\u001b[1m3/4\u001b[0m \u001b[32m━━━━━━━━━━━━━━━\u001b[0m\u001b[37m━━━━━\u001b[0m \u001b[1m0s\u001b[0m 33ms/step - accuracy: 0.9601 - loss: 0.1182\n",
      "Epoch 35: val_accuracy did not improve from 0.66667\n",
      "\u001b[1m4/4\u001b[0m \u001b[32m━━━━━━━━━━━━━━━━━━━━\u001b[0m\u001b[37m\u001b[0m \u001b[1m0s\u001b[0m 34ms/step - accuracy: 0.9600 - loss: 0.1151 - val_accuracy: 0.0000e+00 - val_loss: 1.5632 - learning_rate: 5.0000e-04\n",
      "Epoch 36/50\n",
      "\u001b[1m3/4\u001b[0m \u001b[32m━━━━━━━━━━━━━━━\u001b[0m\u001b[37m━━━━━\u001b[0m \u001b[1m0s\u001b[0m 35ms/step - accuracy: 0.9792 - loss: 0.0945\n",
      "Epoch 36: val_accuracy did not improve from 0.66667\n",
      "\u001b[1m4/4\u001b[0m \u001b[32m━━━━━━━━━━━━━━━━━━━━\u001b[0m\u001b[37m\u001b[0m \u001b[1m0s\u001b[0m 35ms/step - accuracy: 0.9755 - loss: 0.1086 - val_accuracy: 0.0000e+00 - val_loss: 1.6139 - learning_rate: 5.0000e-04\n",
      "Epoch 37/50\n",
      "\u001b[1m3/4\u001b[0m \u001b[32m━━━━━━━━━━━━━━━\u001b[0m\u001b[37m━━━━━\u001b[0m \u001b[1m0s\u001b[0m 37ms/step - accuracy: 0.9462 - loss: 0.1689\n",
      "Epoch 37: val_accuracy did not improve from 0.66667\n",
      "\u001b[1m4/4\u001b[0m \u001b[32m━━━━━━━━━━━━━━━━━━━━\u001b[0m\u001b[37m\u001b[0m \u001b[1m0s\u001b[0m 37ms/step - accuracy: 0.9477 - loss: 0.1633 - val_accuracy: 0.0000e+00 - val_loss: 1.6604 - learning_rate: 5.0000e-04\n",
      "Epoch 38/50\n",
      "\u001b[1m4/4\u001b[0m \u001b[32m━━━━━━━━━━━━━━━━━━━━\u001b[0m\u001b[37m\u001b[0m \u001b[1m0s\u001b[0m 20ms/step - accuracy: 0.9432 - loss: 0.1530\n",
      "Epoch 38: val_accuracy did not improve from 0.66667\n",
      "\u001b[1m4/4\u001b[0m \u001b[32m━━━━━━━━━━━━━━━━━━━━\u001b[0m\u001b[37m\u001b[0m \u001b[1m0s\u001b[0m 30ms/step - accuracy: 0.9446 - loss: 0.1524 - val_accuracy: 0.0000e+00 - val_loss: 1.7052 - learning_rate: 5.0000e-04\n",
      "Epoch 39/50\n",
      "\u001b[1m3/4\u001b[0m \u001b[32m━━━━━━━━━━━━━━━\u001b[0m\u001b[37m━━━━━\u001b[0m \u001b[1m0s\u001b[0m 35ms/step - accuracy: 0.9323 - loss: 0.2220\n",
      "Epoch 39: val_accuracy did not improve from 0.66667\n",
      "\u001b[1m4/4\u001b[0m \u001b[32m━━━━━━━━━━━━━━━━━━━━\u001b[0m\u001b[37m\u001b[0m \u001b[1m0s\u001b[0m 35ms/step - accuracy: 0.9354 - loss: 0.2032 - val_accuracy: 0.0000e+00 - val_loss: 1.7360 - learning_rate: 5.0000e-04\n",
      "Epoch 40/50\n",
      "\u001b[1m3/4\u001b[0m \u001b[32m━━━━━━━━━━━━━━━\u001b[0m\u001b[37m━━━━━\u001b[0m \u001b[1m0s\u001b[0m 28ms/step - accuracy: 0.9583 - loss: 0.1874\n",
      "Epoch 40: val_accuracy did not improve from 0.66667\n",
      "\u001b[1m4/4\u001b[0m \u001b[32m━━━━━━━━━━━━━━━━━━━━\u001b[0m\u001b[37m\u001b[0m \u001b[1m0s\u001b[0m 30ms/step - accuracy: 0.9590 - loss: 0.1978 - val_accuracy: 0.0000e+00 - val_loss: 1.7594 - learning_rate: 5.0000e-04\n",
      "Epoch 41/50\n",
      "\u001b[1m3/4\u001b[0m \u001b[32m━━━━━━━━━━━━━━━\u001b[0m\u001b[37m━━━━━\u001b[0m \u001b[1m0s\u001b[0m 26ms/step - accuracy: 0.9462 - loss: 0.3632\n",
      "Epoch 41: val_accuracy did not improve from 0.66667\n",
      "\u001b[1m4/4\u001b[0m \u001b[32m━━━━━━━━━━━━━━━━━━━━\u001b[0m\u001b[37m\u001b[0m \u001b[1m0s\u001b[0m 42ms/step - accuracy: 0.9477 - loss: 0.3174 - val_accuracy: 0.0000e+00 - val_loss: 1.7668 - learning_rate: 5.0000e-04\n",
      "Epoch 42/50\n",
      "\u001b[1m3/4\u001b[0m \u001b[32m━━━━━━━━━━━━━━━\u001b[0m\u001b[37m━━━━━\u001b[0m \u001b[1m0s\u001b[0m 44ms/step - accuracy: 0.9583 - loss: 0.1683\n",
      "Epoch 42: val_accuracy did not improve from 0.66667\n",
      "\u001b[1m4/4\u001b[0m \u001b[32m━━━━━━━━━━━━━━━━━━━━\u001b[0m\u001b[37m\u001b[0m \u001b[1m0s\u001b[0m 45ms/step - accuracy: 0.9630 - loss: 0.1472 - val_accuracy: 0.0000e+00 - val_loss: 1.7687 - learning_rate: 5.0000e-04\n",
      "Epoch 43/50\n",
      "\u001b[1m3/4\u001b[0m \u001b[32m━━━━━━━━━━━━━━━\u001b[0m\u001b[37m━━━━━\u001b[0m \u001b[1m0s\u001b[0m 33ms/step - accuracy: 0.9601 - loss: 0.0752\n",
      "Epoch 43: val_accuracy did not improve from 0.66667\n",
      "\u001b[1m4/4\u001b[0m \u001b[32m━━━━━━━━━━━━━━━━━━━━\u001b[0m\u001b[37m\u001b[0m \u001b[1m0s\u001b[0m 34ms/step - accuracy: 0.9600 - loss: 0.0831 - val_accuracy: 0.0000e+00 - val_loss: 1.7747 - learning_rate: 5.0000e-04\n",
      "Epoch 44/50\n",
      "\u001b[1m3/4\u001b[0m \u001b[32m━━━━━━━━━━━━━━━\u001b[0m\u001b[37m━━━━━\u001b[0m \u001b[1m0s\u001b[0m 35ms/step - accuracy: 0.9653 - loss: 0.1722\n",
      "Epoch 44: val_accuracy did not improve from 0.66667\n",
      "\u001b[1m4/4\u001b[0m \u001b[32m━━━━━━━━━━━━━━━━━━━━\u001b[0m\u001b[37m\u001b[0m \u001b[1m0s\u001b[0m 35ms/step - accuracy: 0.9592 - loss: 0.1681 - val_accuracy: 0.0000e+00 - val_loss: 1.7905 - learning_rate: 5.0000e-04\n",
      "Epoch 45/50\n",
      "\u001b[1m3/4\u001b[0m \u001b[32m━━━━━━━━━━━━━━━\u001b[0m\u001b[37m━━━━━\u001b[0m \u001b[1m0s\u001b[0m 31ms/step - accuracy: 0.9635 - loss: 0.1199\n",
      "Epoch 45: val_accuracy did not improve from 0.66667\n",
      "\u001b[1m4/4\u001b[0m \u001b[32m━━━━━━━━━━━━━━━━━━━━\u001b[0m\u001b[37m\u001b[0m \u001b[1m0s\u001b[0m 32ms/step - accuracy: 0.9661 - loss: 0.1147 - val_accuracy: 0.0000e+00 - val_loss: 1.7839 - learning_rate: 5.0000e-04\n",
      "Epoch 46/50\n",
      "\u001b[1m3/4\u001b[0m \u001b[32m━━━━━━━━━━━━━━━\u001b[0m\u001b[37m━━━━━\u001b[0m \u001b[1m0s\u001b[0m 30ms/step - accuracy: 0.9896 - loss: 0.0806\n",
      "Epoch 46: val_accuracy did not improve from 0.66667\n",
      "\u001b[1m4/4\u001b[0m \u001b[32m━━━━━━━━━━━━━━━━━━━━\u001b[0m\u001b[37m\u001b[0m \u001b[1m0s\u001b[0m 31ms/step - accuracy: 0.9818 - loss: 0.0890 - val_accuracy: 0.0000e+00 - val_loss: 1.7765 - learning_rate: 5.0000e-04\n",
      "Epoch 47/50\n",
      "\u001b[1m3/4\u001b[0m \u001b[32m━━━━━━━━━━━━━━━\u001b[0m\u001b[37m━━━━━\u001b[0m \u001b[1m0s\u001b[0m 30ms/step - accuracy: 0.9722 - loss: 0.1006\n",
      "Epoch 47: val_accuracy did not improve from 0.66667\n",
      "\u001b[1m4/4\u001b[0m \u001b[32m━━━━━━━━━━━━━━━━━━━━\u001b[0m\u001b[37m\u001b[0m \u001b[1m0s\u001b[0m 32ms/step - accuracy: 0.9633 - loss: 0.1238 - val_accuracy: 0.0000e+00 - val_loss: 1.7791 - learning_rate: 5.0000e-04\n",
      "Epoch 48/50\n",
      "\u001b[1m3/4\u001b[0m \u001b[32m━━━━━━━━━━━━━━━\u001b[0m\u001b[37m━━━━━\u001b[0m \u001b[1m0s\u001b[0m 29ms/step - accuracy: 0.9688 - loss: 0.1428\n",
      "Epoch 48: val_accuracy did not improve from 0.66667\n",
      "\u001b[1m4/4\u001b[0m \u001b[32m━━━━━━━━━━━━━━━━━━━━\u001b[0m\u001b[37m\u001b[0m \u001b[1m0s\u001b[0m 30ms/step - accuracy: 0.9693 - loss: 0.1313 - val_accuracy: 0.0000e+00 - val_loss: 1.7827 - learning_rate: 5.0000e-04\n",
      "Epoch 49/50\n",
      "\u001b[1m3/4\u001b[0m \u001b[32m━━━━━━━━━━━━━━━\u001b[0m\u001b[37m━━━━━\u001b[0m \u001b[1m0s\u001b[0m 27ms/step - accuracy: 0.9878 - loss: 0.0805\n",
      "Epoch 49: val_accuracy did not improve from 0.66667\n",
      "\u001b[1m4/4\u001b[0m \u001b[32m━━━━━━━━━━━━━━━━━━━━\u001b[0m\u001b[37m\u001b[0m \u001b[1m0s\u001b[0m 29ms/step - accuracy: 0.9847 - loss: 0.0824 - val_accuracy: 0.0000e+00 - val_loss: 1.7844 - learning_rate: 5.0000e-04\n",
      "Epoch 50/50\n",
      "\u001b[1m3/4\u001b[0m \u001b[32m━━━━━━━━━━━━━━━\u001b[0m\u001b[37m━━━━━\u001b[0m \u001b[1m0s\u001b[0m 28ms/step - accuracy: 0.9792 - loss: 0.0963\n",
      "Epoch 50: val_accuracy did not improve from 0.66667\n",
      "\u001b[1m4/4\u001b[0m \u001b[32m━━━━━━━━━━━━━━━━━━━━\u001b[0m\u001b[37m\u001b[0m \u001b[1m0s\u001b[0m 29ms/step - accuracy: 0.9715 - loss: 0.1142 - val_accuracy: 0.0000e+00 - val_loss: 1.7873 - learning_rate: 5.0000e-04\n",
      "Restoring model weights from the end of the best epoch: 1.\n"
     ]
    }
   ],
   "source": [
    "# Train the model\n",
    "history = model.fit(\n",
    "    x=X_train,\n",
    "    y=Y_train,\n",
    "    batch_size=32,\n",
    "    epochs=50,\n",
    "    validation_data=(X_val, Y_val),\n",
    "    shuffle=True,\n",
    "    verbose=1,\n",
    "    callbacks=callbacks  # Now you're passing the list of callbacks\n",
    ")"
   ]
  },
  {
   "cell_type": "code",
   "execution_count": 46,
   "id": "ff7e6707-fddc-4812-b8bd-3165e3a39dd6",
   "metadata": {},
   "outputs": [],
   "source": [
    "import json\n",
    "from tensorflow.keras.models import load_model\n",
    "from tensorflow.keras.optimizers import RMSprop\n",
    "\n",
    "# Salvar histórico, pesos e modelo\n",
    "with open(\"history.json\", \"w\") as f:\n",
    "    json.dump(history.history, f)\n",
    "\n",
    "model.save_weights(\"pesos_modelo.weights.h5\")\n",
    "model.save(\"modelo.keras\")\n",
    "\n",
    "# Carregar modelo salvo (apenas uma vez)\n",
    "loaded_model = load_model(\"modelo.keras\")\n",
    "\n",
    "# Criar otimizador rmsprop (apenas uma vez)\n",
    "rmsprop = RMSprop(learning_rate=0.001, rho=0.9, epsilon=1e-07)\n",
    "\n",
    "# Compilar o modelo com rmsprop (apenas uma vez)\n",
    "loaded_model.compile(\n",
    "    optimizer=rmsprop,\n",
    "    loss='sparse_categorical_crossentropy',\n",
    "    metrics=['accuracy']\n",
    ")"
   ]
  },
  {
   "cell_type": "code",
   "execution_count": 47,
   "id": "4003e848-fc10-4f22-98fb-8b0e4923e803",
   "metadata": {},
   "outputs": [
    {
     "name": "stdout",
     "output_type": "stream",
     "text": [
      "{'accuracy': [0.9300000071525574, 0.8799999952316284, 0.9300000071525574, 0.9300000071525574, 0.9300000071525574, 0.9399999976158142, 0.949999988079071, 0.8899999856948853, 0.9300000071525574, 0.949999988079071, 0.9399999976158142, 0.9599999785423279, 0.9399999976158142, 0.9599999785423279, 0.949999988079071, 0.9599999785423279, 0.949999988079071, 0.949999988079071, 0.949999988079071, 0.9700000286102295, 0.9800000190734863, 0.9300000071525574, 0.9599999785423279, 0.9599999785423279, 0.9599999785423279, 0.9599999785423279, 0.9800000190734863, 0.9599999785423279, 0.9300000071525574, 0.9599999785423279, 0.9399999976158142, 0.9599999785423279, 0.9700000286102295, 0.9700000286102295, 0.9599999785423279, 0.9700000286102295, 0.949999988079071, 0.949999988079071, 0.9399999976158142, 0.9599999785423279, 0.949999988079071, 0.9700000286102295, 0.9599999785423279, 0.949999988079071, 0.9700000286102295, 0.9700000286102295, 0.949999988079071, 0.9700000286102295, 0.9800000190734863, 0.9599999785423279], 'loss': [0.5713130831718445, 0.5010623335838318, 0.4879486858844757, 0.28231513500213623, 0.4546354413032532, 0.30773916840553284, 0.19483888149261475, 0.35740935802459717, 0.2314150631427765, 0.2848730981349945, 0.29505839943885803, 0.19979816675186157, 0.29114535450935364, 0.29008665680885315, 0.19445447623729706, 0.185968279838562, 0.19019758701324463, 0.19611717760562897, 0.16550081968307495, 0.09827198088169098, 0.13496093451976776, 0.2359939068555832, 0.15250201523303986, 0.17039552330970764, 0.13208748400211334, 0.2175360471010208, 0.12116214632987976, 0.20124287903308868, 0.18308353424072266, 0.16633932292461395, 0.15248410403728485, 0.22198554873466492, 0.1203061044216156, 0.10701321810483932, 0.1103057786822319, 0.12986086308956146, 0.15484774112701416, 0.1500987559556961, 0.17491894960403442, 0.21347202360630035, 0.24874934554100037, 0.11541064083576202, 0.09485594928264618, 0.16188696026802063, 0.10687971115112305, 0.10166777670383453, 0.15858900547027588, 0.1141030415892601, 0.08535609394311905, 0.14091360569000244], 'val_accuracy': [0.6666666865348816, 0.2666666805744171, 0.06666667014360428, 0.06666667014360428, 0.0, 0.0, 0.0, 0.0, 0.0, 0.0, 0.0, 0.0, 0.0, 0.0, 0.0, 0.0, 0.0, 0.0, 0.0, 0.0, 0.0, 0.0, 0.0, 0.0, 0.0, 0.0, 0.0, 0.0, 0.0, 0.0, 0.0, 0.0, 0.0, 0.0, 0.0, 0.0, 0.0, 0.0, 0.0, 0.0, 0.0, 0.0, 0.0, 0.0, 0.0, 0.0, 0.0, 0.0, 0.0, 0.0], 'val_loss': [0.6989075541496277, 0.7152532935142517, 0.728313684463501, 0.7406362295150757, 0.7542848587036133, 0.7773792743682861, 0.8083316087722778, 0.8429045081138611, 0.8776890635490417, 0.9115743637084961, 0.9448880553245544, 0.9719969630241394, 0.9959491491317749, 1.0241612195968628, 1.0569103956222534, 1.0858790874481201, 1.1099613904953003, 1.1337990760803223, 1.1574519872665405, 1.1806079149246216, 1.1942334175109863, 1.2021845579147339, 1.1868607997894287, 1.1815552711486816, 1.1877217292785645, 1.215194582939148, 1.2458395957946777, 1.264413833618164, 1.2836798429489136, 1.3174855709075928, 1.357305645942688, 1.3986119031906128, 1.4496029615402222, 1.5083119869232178, 1.5631753206253052, 1.6138627529144287, 1.660403847694397, 1.7051830291748047, 1.7359557151794434, 1.7593517303466797, 1.766815423965454, 1.768746256828308, 1.7747489213943481, 1.790454387664795, 1.7838590145111084, 1.7765203714370728, 1.7790570259094238, 1.7826930284500122, 1.7843974828720093, 1.787283182144165], 'learning_rate': [0.0005000000237487257, 0.0005000000237487257, 0.0005000000237487257, 0.0005000000237487257, 0.0005000000237487257, 0.0005000000237487257, 0.0005000000237487257, 0.0005000000237487257, 0.0005000000237487257, 0.0005000000237487257, 0.0005000000237487257, 0.0005000000237487257, 0.0005000000237487257, 0.0005000000237487257, 0.0005000000237487257, 0.0005000000237487257, 0.0005000000237487257, 0.0005000000237487257, 0.0005000000237487257, 0.0005000000237487257, 0.0005000000237487257, 0.0005000000237487257, 0.0005000000237487257, 0.0005000000237487257, 0.0005000000237487257, 0.0005000000237487257, 0.0005000000237487257, 0.0005000000237487257, 0.0005000000237487257, 0.0005000000237487257, 0.0005000000237487257, 0.0005000000237487257, 0.0005000000237487257, 0.0005000000237487257, 0.0005000000237487257, 0.0005000000237487257, 0.0005000000237487257, 0.0005000000237487257, 0.0005000000237487257, 0.0005000000237487257, 0.0005000000237487257, 0.0005000000237487257, 0.0005000000237487257, 0.0005000000237487257, 0.0005000000237487257, 0.0005000000237487257, 0.0005000000237487257, 0.0005000000237487257, 0.0005000000237487257, 0.0005000000237487257]}\n"
     ]
    }
   ],
   "source": [
    "# Imprime o histórico\n",
    "print(history.history)"
   ]
  },
  {
   "cell_type": "code",
   "execution_count": 49,
   "id": "fa098d83-008c-4dbb-92ad-ba96ad7d6c05",
   "metadata": {},
   "outputs": [
    {
     "data": {
      "image/png": "[encoded data removed]",
      "text/plain": [
       "<Figure size 600x400 with 1 Axes>"
      ]
     },
     "metadata": {},
     "output_type": "display_data"
    }
   ],
   "source": [
    "import json\n",
    "import matplotlib.pyplot as plt # Importação da biblioteca matplotlib.pyplot\n",
    "\n",
    "# Plotar histórico\n",
    "with open(\"history.json\", \"r\") as f:\n",
    "    history_data = json.load(f)\n",
    "\n",
    "loss = history_data['loss']\n",
    "val_loss = history_data['val_loss']\n",
    "acc = history_data['accuracy']\n",
    "val_acc = history_data['val_accuracy']\n",
    "\n",
    "epochs = list(range(len(loss)))\n",
    "figsize=(6,4)\n",
    "fig, axis1 = plt.subplots(figsize=figsize)\n",
    "\n",
    "plot1_lacc = axis1.plot(epochs, acc, 'navy', label='accuracy')\n",
    "plot1_val_lacc = axis1.plot(epochs, val_acc, 'deepskyblue', label=\"validation accuracy\")\n",
    "plot1_loss = axis1.plot(epochs, loss, 'red', label='loss')\n",
    "plot1_val_loss = axis1.plot(epochs, val_loss, 'lightsalmon', label=\"validation loss\")\n",
    "\n",
    "plots = plot1_loss + plot1_val_loss + plot1_lacc + plot1_val_lacc\n",
    "labs = [l.get_label() for l in plots]\n",
    "axis1.set_xlabel('Epoch')\n",
    "axis1.set_ylabel('Loss/Accuracy')\n",
    "plt.title(\"Loss/Accuracy History (Pristine Images)\")\n",
    "plt.tight_layout()\n",
    "axis1.legend(loc='center right')\n",
    "\n",
    "plt.show()"
   ]
  },
  {
   "cell_type": "raw",
   "id": "da6716f8-485d-4bb1-b343-c2c1e758a859",
   "metadata": {},
   "source": [
    "Validação do grupo de teste"
   ]
  },
  {
   "cell_type": "code",
   "execution_count": 82,
   "id": "ccd8b8ad-d944-4cf1-809c-25a368608dbe",
   "metadata": {},
   "outputs": [
    {
     "name": "stdout",
     "output_type": "stream",
     "text": [
      "\u001b[1m1/1\u001b[0m \u001b[32m━━━━━━━━━━━━━━━━━━━━\u001b[0m\u001b[37m\u001b[0m \u001b[1m0s\u001b[0m 54ms/step\n",
      "cm [[ 1.  2.]\n",
      " [ 7. 19.]]\n",
      "cm_norm [[0.33333333 0.66666667]\n",
      " [0.26923077 0.73076923]]\n",
      "AUC: 0.5641025641025641\n"
     ]
    },
    {
     "name": "stderr",
     "output_type": "stream",
     "text": [
      "C:\\Users\\stefa\\AppData\\Local\\Temp\\ipykernel_21840\\2011205976.py:29: UserWarning: set_ticklabels() should only be used with a fixed number of ticks, i.e. after set_ticks() or using a FixedLocator.\n",
      "  ax.set_xticklabels([''] + labels)\n",
      "C:\\Users\\stefa\\AppData\\Local\\Temp\\ipykernel_21840\\2011205976.py:30: UserWarning: set_ticklabels() should only be used with a fixed number of ticks, i.e. after set_ticks() or using a FixedLocator.\n",
      "  ax.set_yticklabels([''] + labels)\n"
     ]
    },
    {
     "data": {
      "image/png": "[encoded data removed]",
      "text/plain": [
       "<Figure size 640x480 with 2 Axes>"
      ]
     },
     "metadata": {},
     "output_type": "display_data"
    }
   ],
   "source": [
    "import json\n",
    "\n",
    "# Carregar histórico\n",
    "with open(\"history.json\", \"r\") as f:\n",
    "    history_data = json.load(f)\n",
    "    \n",
    "# predict\n",
    "prob = loaded_model.predict(X_test)\n",
    "pred =  (prob > 0.5).astype('int32') \n",
    "\n",
    "# measure confusion\n",
    "labels=[0, 1]\n",
    "cm = confusion_matrix(Y_test, pred, labels=labels)  # Use Y_test aqui\n",
    "cm = cm.astype('float')\n",
    "cm_norm = cm / cm.sum(axis=1)[:, np.newaxis]\n",
    "print(\"cm\", cm)\n",
    "print(\"cm_norm\", cm_norm)\n",
    "\n",
    "fpr, tpr, thresholds = roc_curve(Y_test, prob, pos_label=1)  # Use Y_test aqui\n",
    "auc = roc_auc_score(Y_test, prob)\n",
    "print(\"AUC:\", auc)\n",
    "\n",
    "#plotting\n",
    "fig = plt.figure()\n",
    "ax = fig.add_subplot(111)\n",
    "cax = ax.matshow(cm)\n",
    "plt.title('Confusion matrix (Pristine Images)', y=1.08)\n",
    "fig.colorbar(cax)\n",
    "ax.set_xticklabels([''] + labels)\n",
    "ax.set_yticklabels([''] + labels)\n",
    "plt.xlabel('Predicted')\n",
    "plt.ylabel('True')\n",
    "fmt = '.2f'\n",
    "thresh = cm_norm.max() / 2.\n",
    "for i in range(cm_norm.shape[0]):\n",
    "    for j in range(cm_norm.shape[1]):\n",
    "        ax.text(j, i, format(cm_norm[i, j], fmt),\n",
    "        ha=\"center\", va=\"center\",\n",
    "        color=\"white\" if cm_norm[i, j] < thresh else \"black\")\n",
    "plt.show()"
   ]
  },
  {
   "cell_type": "code",
   "execution_count": 57,
   "id": "24b90051-055f-4923-b423-7479e60516ed",
   "metadata": {},
   "outputs": [
    {
     "data": {
      "image/png": "[encoded data removed]",
      "text/plain": [
       "<Figure size 500x500 with 1 Axes>"
      ]
     },
     "metadata": {},
     "output_type": "display_data"
    }
   ],
   "source": [
    "# ROC TEST SET\n",
    "figsize=(5,5)\n",
    "fig, axis1 = plt.subplots(figsize=figsize)\n",
    "x_onetoone = y_onetoone = [0, 1]\n",
    "plt.plot(fpr, tpr, 'r-')\n",
    "plt.plot(x_onetoone, y_onetoone, 'k--',  label=\"1-1\")\n",
    "plt.legend(loc=0)\n",
    "plt.title(\"Receiver Operator Characteristic (ROC)\")\n",
    "plt.xlabel(\"False Positive (1 - Specificity)\")\n",
    "plt.ylabel(\"True Positive (Selectivity)\")\n",
    "plt.tight_layout()"
   ]
  },
  {
   "cell_type": "code",
   "execution_count": 59,
   "id": "f1596254-dafb-4059-9e3d-1a32f7524c6f",
   "metadata": {},
   "outputs": [
    {
     "name": "stdout",
     "output_type": "stream",
     "text": [
      "Accuracy: 0.689655\n",
      "Precision: 0.904762\n",
      "Recall: 0.730769\n",
      "F1 score: 0.808511\n",
      "Brier score: 0.244697\n"
     ]
    }
   ],
   "source": [
    "# accuracy: (tp + tn) / (p + n)\n",
    "accuracy = accuracy_score(Y_test, pred)\n",
    "print('Accuracy: %f' % accuracy)\n",
    "\n",
    "# precision tp / (tp + fp)\n",
    "precision = precision_score(Y_test, pred)\n",
    "print('Precision: %f' % precision)\n",
    "\n",
    "# recall: tp / (tp + fn)\n",
    "recall = recall_score(Y_test, pred)\n",
    "print('Recall: %f' % recall)\n",
    "\n",
    "# f1: 2 tp / (2 tp + fp + fn)\n",
    "f1 = f1_score(Y_test, pred)\n",
    "print('F1 score: %f' % f1)\n",
    "\n",
    "# brier score\n",
    "bs = brier_score_loss(Y_test, prob)\n",
    "print('Brier score: %f' % bs)"
   ]
  },
  {
   "cell_type": "raw",
   "id": "62917ed4-80de-434c-af27-6f718f2c119b",
   "metadata": {},
   "source": [
    "Exemplo de imagens"
   ]
  },
  {
   "cell_type": "raw",
   "id": "d260338c-17fd-42a9-bbea-2199068a6dda",
   "metadata": {},
   "source": [
    "#print output probabilities for the chosen TP, FP, TN, FN examples\n",
    "print(prob[84],prob[1370],prob[2031],prob[3003]) # TP examples\n",
    "print(prob[560],prob[1228],prob[2878],prob[3026]) # FP examples\n",
    "print(prob[564],prob[1056],prob[2083],prob[3063]) # TN examples\n",
    "print(prob[465],prob[1546],prob[2241],prob[3037]) # FN examples"
   ]
  },
  {
   "cell_type": "code",
   "execution_count": 74,
   "id": "572f5367-5ff3-4078-9cec-554856f0ba2e",
   "metadata": {},
   "outputs": [
    {
     "name": "stdout",
     "output_type": "stream",
     "text": [
      "\u001b[1m1/1\u001b[0m \u001b[32m━━━━━━━━━━━━━━━━━━━━\u001b[0m\u001b[37m\u001b[0m \u001b[1m0s\u001b[0m 47ms/step\n",
      "Probabilidade média TP: 0.50956446\n",
      "Probabilidade média FP: 0.5055294\n",
      "Probabilidade média TN: 0.49964088\n",
      "Probabilidade média FN: 0.4980502\n"
     ]
    }
   ],
   "source": [
    "import matplotlib.pyplot as plt\n",
    "from matplotlib.colors import LogNorm\n",
    "import numpy as np\n",
    "\n",
    "# ... (seu código para carregar os dados, treinar o modelo, etc.)\n",
    "\n",
    "def analisar_probabilidades(prob, Y_test, pred):\n",
    "    \"\"\"\n",
    "    Analisa as probabilidades dos exemplos TP, FP, TN e FN.\n",
    "\n",
    "    Args:\n",
    "        prob: Array de probabilidades previsto pelo modelo.\n",
    "        Y_test: Etiquetas reais do conjunto de teste.\n",
    "        pred: Previsões do modelo (0 ou 1).\n",
    "\n",
    "    Returns:\n",
    "        Tupla com as probabilidades médias de cada categoria:\n",
    "            (media_tp, media_fp, media_tn, media_fn)\n",
    "    \"\"\"\n",
    "\n",
    "    tp_indices = []\n",
    "    fp_indices = []\n",
    "    tn_indices = []\n",
    "    fn_indices = []\n",
    "\n",
    "    for i in range(len(Y_test)):\n",
    "        if (Y_test[i] == 1 and pred[i, 0] == 1):  # TP\n",
    "            tp_indices.append(i)\n",
    "        elif (Y_test[i] == 0 and pred[i, 0] == 1): # FP\n",
    "            fp_indices.append(i)\n",
    "        elif (Y_test[i] == 0 and pred[i, 0] == 0): # TN\n",
    "            tn_indices.append(i)\n",
    "        elif (Y_test[i] == 1 and pred[i, 0] == 0): # FN\n",
    "            fn_indices.append(i)\n",
    "\n",
    "    media_tp = np.mean(prob[tp_indices]) if tp_indices else 0  # Calcula a média das probabilidades TP\n",
    "    media_fp = np.mean(prob[fp_indices]) if fp_indices else 0\n",
    "    media_tn = np.mean(prob[tn_indices]) if tn_indices else 0\n",
    "    media_fn = np.mean(prob[fn_indices]) if fn_indices else 0\n",
    "\n",
    "    return (media_tp, media_fp, media_tn, media_fn)\n",
    "\n",
    "# Treinar o modelo (seu código de treinamento aqui)\n",
    "\n",
    "# Predizer as probabilidades no conjunto de teste\n",
    "prob = loaded_model.predict(X_test)\n",
    "pred = (prob > 0.5).astype('int32')\n",
    "\n",
    "# Analisar as probabilidades\n",
    "media_tp, media_fp, media_tn, media_fn = analisar_probabilidades(prob, Y_test, pred)\n",
    "\n",
    "# Fazer algo com as probabilidades\n",
    "print(\"Probabilidade média TP:\", media_tp)\n",
    "print(\"Probabilidade média FP:\", media_fp)\n",
    "print(\"Probabilidade média TN:\", media_tn)\n",
    "print(\"Probabilidade média FN:\", media_fn)\n",
    "\n",
    "# Salvar as probabilidades em um arquivo (opcional)\n",
    "with open(\"probabilidades.txt\", \"w\") as f:\n",
    "    f.write(f\"Probabilidade média TP: {media_tp}\\n\")\n",
    "    f.write(f\"Probabilidade média FP: {media_fp}\\n\")\n",
    "    f.write(f\"Probabilidade média TN: {media_tn}\\n\")\n",
    "    f.write(f\"Probabilidade média FN: {media_fn}\\n\")\n",
    "\n",
    "# ... (seu código para plotar os exemplos, etc.)"
   ]
  },
  {
   "cell_type": "code",
   "execution_count": 75,
   "id": "39cd5292-fb1f-42a0-a0f7-1e295bea9cd8",
   "metadata": {},
   "outputs": [
    {
     "name": "stdout",
     "output_type": "stream",
     "text": [
      "0\n",
      "1.0 [1]\n",
      "Probabilidade do exemplo 0: [0.50502425]\n",
      "1\n",
      "1.0 [1]\n",
      "Probabilidade do exemplo 1: [0.5234292]\n",
      "Probabilidade do exemplo 2: [0.49999052]\n",
      "Probabilidade do exemplo 3: [0.4989255]\n",
      "4\n",
      "1.0 [1]\n",
      "Probabilidade do exemplo 4: [0.5199567]\n",
      "Probabilidade do exemplo 5: [0.50711596]\n",
      "Probabilidade do exemplo 6: [0.49668896]\n",
      "7\n",
      "1.0 [1]\n",
      "Probabilidade do exemplo 7: [0.5004041]\n",
      "Probabilidade do exemplo 8: [0.49994725]\n",
      "9\n",
      "1.0 [1]\n",
      "Probabilidade do exemplo 9: [0.50047714]\n",
      "10\n",
      "1.0 [1]\n",
      "Probabilidade do exemplo 10: [0.5052137]\n",
      "11\n",
      "1.0 [1]\n",
      "Probabilidade do exemplo 11: [0.51339173]\n",
      "12\n",
      "1.0 [1]\n",
      "Probabilidade do exemplo 12: [0.50446725]\n",
      "13\n",
      "1.0 [1]\n",
      "Probabilidade do exemplo 13: [0.50502425]\n",
      "Probabilidade do exemplo 14: [0.49986705]\n",
      "15\n",
      "1.0 [1]\n",
      "Probabilidade do exemplo 15: [0.50682163]\n",
      "16\n",
      "1.0 [1]\n",
      "Probabilidade do exemplo 16: [0.5003359]\n",
      "17\n",
      "1.0 [1]\n",
      "Probabilidade do exemplo 17: [0.5080124]\n",
      "Probabilidade do exemplo 18: [0.4960476]\n",
      "19\n",
      "1.0 [1]\n",
      "Probabilidade do exemplo 19: [0.50461173]\n",
      "Probabilidade do exemplo 20: [0.49964088]\n",
      "21\n",
      "1.0 [1]\n",
      "Probabilidade do exemplo 21: [0.5185505]\n",
      "22\n",
      "1.0 [1]\n",
      "Probabilidade do exemplo 22: [0.50446725]\n",
      "23\n",
      "1.0 [1]\n",
      "Probabilidade do exemplo 23: [0.5032271]\n",
      "24\n",
      "1.0 [1]\n",
      "Probabilidade do exemplo 24: [0.512841]\n",
      "Probabilidade do exemplo 25: [0.49488482]\n",
      "Probabilidade do exemplo 26: [0.50394285]\n",
      "27\n",
      "1.0 [1]\n",
      "Probabilidade do exemplo 27: [0.5062705]\n",
      "28\n",
      "1.0 [1]\n",
      "Probabilidade do exemplo 28: [0.53919804]\n"
     ]
    }
   ],
   "source": [
    "# Seraching for examples\n",
    "for i in range(len(Y_test)):\n",
    "    if (Y_test[i] == 1 and pred[i,0] == 1): # and other y_test vs pered combinations TP=(1,1), FP=(0,1), TN=(0,0), FN=(1,0)\n",
    "        print (i)\n",
    "        print(Y_test[i],pred[i])\n",
    "\n",
    "    # Imprimir probabilidades para o exemplo atual (índice i)\n",
    "    print(f\"Probabilidade do exemplo {i}: {prob[i]}\")"
   ]
  },
  {
   "cell_type": "code",
   "execution_count": 81,
   "id": "5c52873c-0330-4afa-8aa3-558bc89d9cc7",
   "metadata": {},
   "outputs": [
    {
     "name": "stdout",
     "output_type": "stream",
     "text": [
      "Forma do conjunto de teste: (29, 75, 75, 2)\n",
      "Formato de um exemplo: (75, 75, 2)\n"
     ]
    },
    {
     "ename": "TypeError",
     "evalue": "Invalid shape (75, 75, 2) for image data",
     "output_type": "error",
     "traceback": [
      "\u001b[1;31m---------------------------------------------------------------------------\u001b[0m",
      "\u001b[1;31mTypeError\u001b[0m                                 Traceback (most recent call last)",
      "Cell \u001b[1;32mIn[81], line 7\u001b[0m\n\u001b[0;32m      4\u001b[0m \u001b[38;5;28mprint\u001b[39m(\u001b[38;5;124m\"\u001b[39m\u001b[38;5;124mFormato de um exemplo:\u001b[39m\u001b[38;5;124m\"\u001b[39m, X_test[\u001b[38;5;241m0\u001b[39m]\u001b[38;5;241m.\u001b[39mshape)  \u001b[38;5;66;03m# Imprime a forma de um exemplo do conjunto de teste\u001b[39;00m\n\u001b[0;32m      6\u001b[0m \u001b[38;5;66;03m# Visualizar um exemplo da imagem\u001b[39;00m\n\u001b[1;32m----> 7\u001b[0m \u001b[43mplt\u001b[49m\u001b[38;5;241;43m.\u001b[39;49m\u001b[43mimshow\u001b[49m\u001b[43m(\u001b[49m\u001b[43mX_test\u001b[49m\u001b[43m[\u001b[49m\u001b[38;5;241;43m0\u001b[39;49m\u001b[43m]\u001b[49m\u001b[43m,\u001b[49m\u001b[43m \u001b[49m\u001b[43mcmap\u001b[49m\u001b[38;5;241;43m=\u001b[39;49m\u001b[38;5;124;43m'\u001b[39;49m\u001b[38;5;124;43mviridis\u001b[39;49m\u001b[38;5;124;43m'\u001b[39;49m\u001b[43m)\u001b[49m \n\u001b[0;32m      8\u001b[0m plt\u001b[38;5;241m.\u001b[39mshow()\n",
      "File \u001b[1;32m~\\AppData\\Local\\Programs\\Python\\Python312\\Lib\\site-packages\\matplotlib\\pyplot.py:3562\u001b[0m, in \u001b[0;36mimshow\u001b[1;34m(X, cmap, norm, aspect, interpolation, alpha, vmin, vmax, origin, extent, interpolation_stage, filternorm, filterrad, resample, url, data, **kwargs)\u001b[0m\n\u001b[0;32m   3541\u001b[0m \u001b[38;5;129m@_copy_docstring_and_deprecators\u001b[39m(Axes\u001b[38;5;241m.\u001b[39mimshow)\n\u001b[0;32m   3542\u001b[0m \u001b[38;5;28;01mdef\u001b[39;00m \u001b[38;5;21mimshow\u001b[39m(\n\u001b[0;32m   3543\u001b[0m     X: ArrayLike \u001b[38;5;241m|\u001b[39m PIL\u001b[38;5;241m.\u001b[39mImage\u001b[38;5;241m.\u001b[39mImage,\n\u001b[1;32m   (...)\u001b[0m\n\u001b[0;32m   3560\u001b[0m     \u001b[38;5;241m*\u001b[39m\u001b[38;5;241m*\u001b[39mkwargs,\n\u001b[0;32m   3561\u001b[0m ) \u001b[38;5;241m-\u001b[39m\u001b[38;5;241m>\u001b[39m AxesImage:\n\u001b[1;32m-> 3562\u001b[0m     __ret \u001b[38;5;241m=\u001b[39m \u001b[43mgca\u001b[49m\u001b[43m(\u001b[49m\u001b[43m)\u001b[49m\u001b[38;5;241;43m.\u001b[39;49m\u001b[43mimshow\u001b[49m\u001b[43m(\u001b[49m\n\u001b[0;32m   3563\u001b[0m \u001b[43m        \u001b[49m\u001b[43mX\u001b[49m\u001b[43m,\u001b[49m\n\u001b[0;32m   3564\u001b[0m \u001b[43m        \u001b[49m\u001b[43mcmap\u001b[49m\u001b[38;5;241;43m=\u001b[39;49m\u001b[43mcmap\u001b[49m\u001b[43m,\u001b[49m\n\u001b[0;32m   3565\u001b[0m \u001b[43m        \u001b[49m\u001b[43mnorm\u001b[49m\u001b[38;5;241;43m=\u001b[39;49m\u001b[43mnorm\u001b[49m\u001b[43m,\u001b[49m\n\u001b[0;32m   3566\u001b[0m \u001b[43m        \u001b[49m\u001b[43maspect\u001b[49m\u001b[38;5;241;43m=\u001b[39;49m\u001b[43maspect\u001b[49m\u001b[43m,\u001b[49m\n\u001b[0;32m   3567\u001b[0m \u001b[43m        \u001b[49m\u001b[43minterpolation\u001b[49m\u001b[38;5;241;43m=\u001b[39;49m\u001b[43minterpolation\u001b[49m\u001b[43m,\u001b[49m\n\u001b[0;32m   3568\u001b[0m \u001b[43m        \u001b[49m\u001b[43malpha\u001b[49m\u001b[38;5;241;43m=\u001b[39;49m\u001b[43malpha\u001b[49m\u001b[43m,\u001b[49m\n\u001b[0;32m   3569\u001b[0m \u001b[43m        \u001b[49m\u001b[43mvmin\u001b[49m\u001b[38;5;241;43m=\u001b[39;49m\u001b[43mvmin\u001b[49m\u001b[43m,\u001b[49m\n\u001b[0;32m   3570\u001b[0m \u001b[43m        \u001b[49m\u001b[43mvmax\u001b[49m\u001b[38;5;241;43m=\u001b[39;49m\u001b[43mvmax\u001b[49m\u001b[43m,\u001b[49m\n\u001b[0;32m   3571\u001b[0m \u001b[43m        \u001b[49m\u001b[43morigin\u001b[49m\u001b[38;5;241;43m=\u001b[39;49m\u001b[43morigin\u001b[49m\u001b[43m,\u001b[49m\n\u001b[0;32m   3572\u001b[0m \u001b[43m        \u001b[49m\u001b[43mextent\u001b[49m\u001b[38;5;241;43m=\u001b[39;49m\u001b[43mextent\u001b[49m\u001b[43m,\u001b[49m\n\u001b[0;32m   3573\u001b[0m \u001b[43m        \u001b[49m\u001b[43minterpolation_stage\u001b[49m\u001b[38;5;241;43m=\u001b[39;49m\u001b[43minterpolation_stage\u001b[49m\u001b[43m,\u001b[49m\n\u001b[0;32m   3574\u001b[0m \u001b[43m        \u001b[49m\u001b[43mfilternorm\u001b[49m\u001b[38;5;241;43m=\u001b[39;49m\u001b[43mfilternorm\u001b[49m\u001b[43m,\u001b[49m\n\u001b[0;32m   3575\u001b[0m \u001b[43m        \u001b[49m\u001b[43mfilterrad\u001b[49m\u001b[38;5;241;43m=\u001b[39;49m\u001b[43mfilterrad\u001b[49m\u001b[43m,\u001b[49m\n\u001b[0;32m   3576\u001b[0m \u001b[43m        \u001b[49m\u001b[43mresample\u001b[49m\u001b[38;5;241;43m=\u001b[39;49m\u001b[43mresample\u001b[49m\u001b[43m,\u001b[49m\n\u001b[0;32m   3577\u001b[0m \u001b[43m        \u001b[49m\u001b[43murl\u001b[49m\u001b[38;5;241;43m=\u001b[39;49m\u001b[43murl\u001b[49m\u001b[43m,\u001b[49m\n\u001b[0;32m   3578\u001b[0m \u001b[43m        \u001b[49m\u001b[38;5;241;43m*\u001b[39;49m\u001b[38;5;241;43m*\u001b[39;49m\u001b[43m(\u001b[49m\u001b[43m{\u001b[49m\u001b[38;5;124;43m\"\u001b[39;49m\u001b[38;5;124;43mdata\u001b[39;49m\u001b[38;5;124;43m\"\u001b[39;49m\u001b[43m:\u001b[49m\u001b[43m \u001b[49m\u001b[43mdata\u001b[49m\u001b[43m}\u001b[49m\u001b[43m \u001b[49m\u001b[38;5;28;43;01mif\u001b[39;49;00m\u001b[43m \u001b[49m\u001b[43mdata\u001b[49m\u001b[43m \u001b[49m\u001b[38;5;129;43;01mis\u001b[39;49;00m\u001b[43m \u001b[49m\u001b[38;5;129;43;01mnot\u001b[39;49;00m\u001b[43m \u001b[49m\u001b[38;5;28;43;01mNone\u001b[39;49;00m\u001b[43m \u001b[49m\u001b[38;5;28;43;01melse\u001b[39;49;00m\u001b[43m \u001b[49m\u001b[43m{\u001b[49m\u001b[43m}\u001b[49m\u001b[43m)\u001b[49m\u001b[43m,\u001b[49m\n\u001b[0;32m   3579\u001b[0m \u001b[43m        \u001b[49m\u001b[38;5;241;43m*\u001b[39;49m\u001b[38;5;241;43m*\u001b[39;49m\u001b[43mkwargs\u001b[49m\u001b[43m,\u001b[49m\n\u001b[0;32m   3580\u001b[0m \u001b[43m    \u001b[49m\u001b[43m)\u001b[49m\n\u001b[0;32m   3581\u001b[0m     sci(__ret)\n\u001b[0;32m   3582\u001b[0m     \u001b[38;5;28;01mreturn\u001b[39;00m __ret\n",
      "File \u001b[1;32m~\\AppData\\Local\\Programs\\Python\\Python312\\Lib\\site-packages\\matplotlib\\__init__.py:1486\u001b[0m, in \u001b[0;36m_preprocess_data.<locals>.inner\u001b[1;34m(ax, data, *args, **kwargs)\u001b[0m\n\u001b[0;32m   1483\u001b[0m \u001b[38;5;129m@functools\u001b[39m\u001b[38;5;241m.\u001b[39mwraps(func)\n\u001b[0;32m   1484\u001b[0m \u001b[38;5;28;01mdef\u001b[39;00m \u001b[38;5;21minner\u001b[39m(ax, \u001b[38;5;241m*\u001b[39margs, data\u001b[38;5;241m=\u001b[39m\u001b[38;5;28;01mNone\u001b[39;00m, \u001b[38;5;241m*\u001b[39m\u001b[38;5;241m*\u001b[39mkwargs):\n\u001b[0;32m   1485\u001b[0m     \u001b[38;5;28;01mif\u001b[39;00m data \u001b[38;5;129;01mis\u001b[39;00m \u001b[38;5;28;01mNone\u001b[39;00m:\n\u001b[1;32m-> 1486\u001b[0m         \u001b[38;5;28;01mreturn\u001b[39;00m \u001b[43mfunc\u001b[49m\u001b[43m(\u001b[49m\n\u001b[0;32m   1487\u001b[0m \u001b[43m            \u001b[49m\u001b[43max\u001b[49m\u001b[43m,\u001b[49m\n\u001b[0;32m   1488\u001b[0m \u001b[43m            \u001b[49m\u001b[38;5;241;43m*\u001b[39;49m\u001b[38;5;28;43mmap\u001b[39;49m\u001b[43m(\u001b[49m\u001b[43msanitize_sequence\u001b[49m\u001b[43m,\u001b[49m\u001b[43m \u001b[49m\u001b[43margs\u001b[49m\u001b[43m)\u001b[49m\u001b[43m,\u001b[49m\n\u001b[0;32m   1489\u001b[0m \u001b[43m            \u001b[49m\u001b[38;5;241;43m*\u001b[39;49m\u001b[38;5;241;43m*\u001b[39;49m\u001b[43m{\u001b[49m\u001b[43mk\u001b[49m\u001b[43m:\u001b[49m\u001b[43m \u001b[49m\u001b[43msanitize_sequence\u001b[49m\u001b[43m(\u001b[49m\u001b[43mv\u001b[49m\u001b[43m)\u001b[49m\u001b[43m \u001b[49m\u001b[38;5;28;43;01mfor\u001b[39;49;00m\u001b[43m \u001b[49m\u001b[43mk\u001b[49m\u001b[43m,\u001b[49m\u001b[43m \u001b[49m\u001b[43mv\u001b[49m\u001b[43m \u001b[49m\u001b[38;5;129;43;01min\u001b[39;49;00m\u001b[43m \u001b[49m\u001b[43mkwargs\u001b[49m\u001b[38;5;241;43m.\u001b[39;49m\u001b[43mitems\u001b[49m\u001b[43m(\u001b[49m\u001b[43m)\u001b[49m\u001b[43m}\u001b[49m\u001b[43m)\u001b[49m\n\u001b[0;32m   1491\u001b[0m     bound \u001b[38;5;241m=\u001b[39m new_sig\u001b[38;5;241m.\u001b[39mbind(ax, \u001b[38;5;241m*\u001b[39margs, \u001b[38;5;241m*\u001b[39m\u001b[38;5;241m*\u001b[39mkwargs)\n\u001b[0;32m   1492\u001b[0m     auto_label \u001b[38;5;241m=\u001b[39m (bound\u001b[38;5;241m.\u001b[39marguments\u001b[38;5;241m.\u001b[39mget(label_namer)\n\u001b[0;32m   1493\u001b[0m                   \u001b[38;5;129;01mor\u001b[39;00m bound\u001b[38;5;241m.\u001b[39mkwargs\u001b[38;5;241m.\u001b[39mget(label_namer))\n",
      "File \u001b[1;32m~\\AppData\\Local\\Programs\\Python\\Python312\\Lib\\site-packages\\matplotlib\\axes\\_axes.py:5895\u001b[0m, in \u001b[0;36mAxes.imshow\u001b[1;34m(self, X, cmap, norm, aspect, interpolation, alpha, vmin, vmax, origin, extent, interpolation_stage, filternorm, filterrad, resample, url, **kwargs)\u001b[0m\n\u001b[0;32m   5892\u001b[0m \u001b[38;5;28;01mif\u001b[39;00m aspect \u001b[38;5;129;01mis\u001b[39;00m \u001b[38;5;129;01mnot\u001b[39;00m \u001b[38;5;28;01mNone\u001b[39;00m:\n\u001b[0;32m   5893\u001b[0m     \u001b[38;5;28mself\u001b[39m\u001b[38;5;241m.\u001b[39mset_aspect(aspect)\n\u001b[1;32m-> 5895\u001b[0m \u001b[43mim\u001b[49m\u001b[38;5;241;43m.\u001b[39;49m\u001b[43mset_data\u001b[49m\u001b[43m(\u001b[49m\u001b[43mX\u001b[49m\u001b[43m)\u001b[49m\n\u001b[0;32m   5896\u001b[0m im\u001b[38;5;241m.\u001b[39mset_alpha(alpha)\n\u001b[0;32m   5897\u001b[0m \u001b[38;5;28;01mif\u001b[39;00m im\u001b[38;5;241m.\u001b[39mget_clip_path() \u001b[38;5;129;01mis\u001b[39;00m \u001b[38;5;28;01mNone\u001b[39;00m:\n\u001b[0;32m   5898\u001b[0m     \u001b[38;5;66;03m# image does not already have clipping set, clip to Axes patch\u001b[39;00m\n",
      "File \u001b[1;32m~\\AppData\\Local\\Programs\\Python\\Python312\\Lib\\site-packages\\matplotlib\\image.py:729\u001b[0m, in \u001b[0;36m_ImageBase.set_data\u001b[1;34m(self, A)\u001b[0m\n\u001b[0;32m    727\u001b[0m \u001b[38;5;28;01mif\u001b[39;00m \u001b[38;5;28misinstance\u001b[39m(A, PIL\u001b[38;5;241m.\u001b[39mImage\u001b[38;5;241m.\u001b[39mImage):\n\u001b[0;32m    728\u001b[0m     A \u001b[38;5;241m=\u001b[39m pil_to_array(A)  \u001b[38;5;66;03m# Needed e.g. to apply png palette.\u001b[39;00m\n\u001b[1;32m--> 729\u001b[0m \u001b[38;5;28mself\u001b[39m\u001b[38;5;241m.\u001b[39m_A \u001b[38;5;241m=\u001b[39m \u001b[38;5;28;43mself\u001b[39;49m\u001b[38;5;241;43m.\u001b[39;49m\u001b[43m_normalize_image_array\u001b[49m\u001b[43m(\u001b[49m\u001b[43mA\u001b[49m\u001b[43m)\u001b[49m\n\u001b[0;32m    730\u001b[0m \u001b[38;5;28mself\u001b[39m\u001b[38;5;241m.\u001b[39m_imcache \u001b[38;5;241m=\u001b[39m \u001b[38;5;28;01mNone\u001b[39;00m\n\u001b[0;32m    731\u001b[0m \u001b[38;5;28mself\u001b[39m\u001b[38;5;241m.\u001b[39mstale \u001b[38;5;241m=\u001b[39m \u001b[38;5;28;01mTrue\u001b[39;00m\n",
      "File \u001b[1;32m~\\AppData\\Local\\Programs\\Python\\Python312\\Lib\\site-packages\\matplotlib\\image.py:697\u001b[0m, in \u001b[0;36m_ImageBase._normalize_image_array\u001b[1;34m(A)\u001b[0m\n\u001b[0;32m    695\u001b[0m     A \u001b[38;5;241m=\u001b[39m A\u001b[38;5;241m.\u001b[39msqueeze(\u001b[38;5;241m-\u001b[39m\u001b[38;5;241m1\u001b[39m)  \u001b[38;5;66;03m# If just (M, N, 1), assume scalar and apply colormap.\u001b[39;00m\n\u001b[0;32m    696\u001b[0m \u001b[38;5;28;01mif\u001b[39;00m \u001b[38;5;129;01mnot\u001b[39;00m (A\u001b[38;5;241m.\u001b[39mndim \u001b[38;5;241m==\u001b[39m \u001b[38;5;241m2\u001b[39m \u001b[38;5;129;01mor\u001b[39;00m A\u001b[38;5;241m.\u001b[39mndim \u001b[38;5;241m==\u001b[39m \u001b[38;5;241m3\u001b[39m \u001b[38;5;129;01mand\u001b[39;00m A\u001b[38;5;241m.\u001b[39mshape[\u001b[38;5;241m-\u001b[39m\u001b[38;5;241m1\u001b[39m] \u001b[38;5;129;01min\u001b[39;00m [\u001b[38;5;241m3\u001b[39m, \u001b[38;5;241m4\u001b[39m]):\n\u001b[1;32m--> 697\u001b[0m     \u001b[38;5;28;01mraise\u001b[39;00m \u001b[38;5;167;01mTypeError\u001b[39;00m(\u001b[38;5;124mf\u001b[39m\u001b[38;5;124m\"\u001b[39m\u001b[38;5;124mInvalid shape \u001b[39m\u001b[38;5;132;01m{\u001b[39;00mA\u001b[38;5;241m.\u001b[39mshape\u001b[38;5;132;01m}\u001b[39;00m\u001b[38;5;124m for image data\u001b[39m\u001b[38;5;124m\"\u001b[39m)\n\u001b[0;32m    698\u001b[0m \u001b[38;5;28;01mif\u001b[39;00m A\u001b[38;5;241m.\u001b[39mndim \u001b[38;5;241m==\u001b[39m \u001b[38;5;241m3\u001b[39m:\n\u001b[0;32m    699\u001b[0m     \u001b[38;5;66;03m# If the input data has values outside the valid range (after\u001b[39;00m\n\u001b[0;32m    700\u001b[0m     \u001b[38;5;66;03m# normalisation), we issue a warning and then clip X to the bounds\u001b[39;00m\n\u001b[0;32m    701\u001b[0m     \u001b[38;5;66;03m# - otherwise casting wraps extreme values, hiding outliers and\u001b[39;00m\n\u001b[0;32m    702\u001b[0m     \u001b[38;5;66;03m# making reliable interpretation impossible.\u001b[39;00m\n\u001b[0;32m    703\u001b[0m     high \u001b[38;5;241m=\u001b[39m \u001b[38;5;241m255\u001b[39m \u001b[38;5;28;01mif\u001b[39;00m np\u001b[38;5;241m.\u001b[39missubdtype(A\u001b[38;5;241m.\u001b[39mdtype, np\u001b[38;5;241m.\u001b[39minteger) \u001b[38;5;28;01melse\u001b[39;00m \u001b[38;5;241m1\u001b[39m\n",
      "\u001b[1;31mTypeError\u001b[0m: Invalid shape (75, 75, 2) for image data"
     ]
    },
    {
     "data": {
      "image/png": "[encoded data removed]",
      "text/plain": [
       "<Figure size 640x480 with 1 Axes>"
      ]
     },
     "metadata": {},
     "output_type": "display_data"
    }
   ],
   "source": [
    "import matplotlib.pyplot as plt\n",
    "from matplotlib.colors import LogNorm\n",
    "import numpy as np\n",
    "import cv2\n",
    "\n",
    "# ... (seu código para carregar os dados e treinar o modelo)\n",
    "\n",
    "# Converter os dados para RGB\n",
    "for i in range(len(X_test)):\n",
    "    X_test[i] = cv2.cvtColor(X_test[i], cv2.COLOR_GRAY2RGB) \n",
    "\n",
    "# plot examples\n",
    "tp1 = X_test[4] # Ajuste os índices para os exemplos do X_test\n",
    "tp2 = X_test[14]\n",
    "tp3 = X_test[20]\n",
    "tp4 = X_test[28]\n",
    "\n",
    "fp1 = X_test[0]\n",
    "fp2 = X_test[12]\n",
    "fp3 = X_test[27]\n",
    "fp4 = X_test[25]\n",
    "\n",
    "tn1 = X_test[1]\n",
    "tn2 = X_test[10]\n",
    "tn3 = X_test[19]\n",
    "tn4 = X_test[23]\n",
    "\n",
    "fn1 = X_test[3]\n",
    "fn2 = X_test[15]\n",
    "fn3 = X_test[21]\n",
    "fn4 = X_test[26]\n",
    "\n",
    "examples = [tp1, tp2, tp3, tp4, fp1, fp2, fp3, fp4, tn1, tn2, tn3, tn4, fn1, fn2, fn3, fn4]\n",
    "\n",
    "fig1=plt.figure(figsize=(8,8))\n",
    "\n",
    "for i, image in enumerate(examples):\n",
    "    fig1.suptitle('From top row to bottom: TP, FP, TN, FN', fontsize=20)\n",
    "    plt.subplot(4, 4, i + 1)\n",
    "    plt.axis(\"off\")\n",
    "    plt.imshow(image, aspect='auto', cmap='viridis', norm=LogNorm())\n",
    "plt.subplots_adjust(hspace=0, wspace=0)\n",
    "plt.show()\n",
    "\n",
    "# ... (resto do seu código) "
   ]
  },
  {
   "cell_type": "code",
   "execution_count": 77,
   "id": "5fc951ef-765b-427b-803b-d5d4b9f8bd85",
   "metadata": {
    "scrolled": true
   },
   "outputs": [
    {
     "ename": "TypeError",
     "evalue": "Invalid shape (75, 75, 2) for image data",
     "output_type": "error",
     "traceback": [
      "\u001b[1;31m---------------------------------------------------------------------------\u001b[0m",
      "\u001b[1;31mTypeError\u001b[0m                                 Traceback (most recent call last)",
      "Cell \u001b[1;32mIn[77], line 35\u001b[0m\n\u001b[0;32m     33\u001b[0m     plt\u001b[38;5;241m.\u001b[39maxis(\u001b[38;5;124m\"\u001b[39m\u001b[38;5;124moff\u001b[39m\u001b[38;5;124m\"\u001b[39m)\n\u001b[0;32m     34\u001b[0m     \u001b[38;5;66;03m# Se você quer exibir os dois canais juntos, use a função np.stack()\u001b[39;00m\n\u001b[1;32m---> 35\u001b[0m     \u001b[43mplt\u001b[49m\u001b[38;5;241;43m.\u001b[39;49m\u001b[43mimshow\u001b[49m\u001b[43m(\u001b[49m\u001b[43mnp\u001b[49m\u001b[38;5;241;43m.\u001b[39;49m\u001b[43mstack\u001b[49m\u001b[43m(\u001b[49m\u001b[43m(\u001b[49m\u001b[43mimage\u001b[49m\u001b[43m[\u001b[49m\u001b[43m:\u001b[49m\u001b[43m,\u001b[49m\u001b[43m \u001b[49m\u001b[43m:\u001b[49m\u001b[43m,\u001b[49m\u001b[43m \u001b[49m\u001b[38;5;241;43m0\u001b[39;49m\u001b[43m]\u001b[49m\u001b[43m,\u001b[49m\u001b[43m \u001b[49m\u001b[43mimage\u001b[49m\u001b[43m[\u001b[49m\u001b[43m:\u001b[49m\u001b[43m,\u001b[49m\u001b[43m \u001b[49m\u001b[43m:\u001b[49m\u001b[43m,\u001b[49m\u001b[43m \u001b[49m\u001b[38;5;241;43m1\u001b[39;49m\u001b[43m]\u001b[49m\u001b[43m)\u001b[49m\u001b[43m,\u001b[49m\u001b[43m \u001b[49m\u001b[43maxis\u001b[49m\u001b[38;5;241;43m=\u001b[39;49m\u001b[38;5;241;43m-\u001b[39;49m\u001b[38;5;241;43m1\u001b[39;49m\u001b[43m)\u001b[49m\u001b[43m,\u001b[49m\u001b[43m \u001b[49m\u001b[43maspect\u001b[49m\u001b[38;5;241;43m=\u001b[39;49m\u001b[38;5;124;43m'\u001b[39;49m\u001b[38;5;124;43mauto\u001b[39;49m\u001b[38;5;124;43m'\u001b[39;49m\u001b[43m,\u001b[49m\u001b[43m \u001b[49m\u001b[43mcmap\u001b[49m\u001b[38;5;241;43m=\u001b[39;49m\u001b[38;5;124;43m'\u001b[39;49m\u001b[38;5;124;43mviridis\u001b[39;49m\u001b[38;5;124;43m'\u001b[39;49m\u001b[43m,\u001b[49m\u001b[43m \u001b[49m\u001b[43mnorm\u001b[49m\u001b[38;5;241;43m=\u001b[39;49m\u001b[43mLogNorm\u001b[49m\u001b[43m(\u001b[49m\u001b[43m)\u001b[49m\u001b[43m)\u001b[49m\n\u001b[0;32m     36\u001b[0m     \u001b[38;5;66;03m# Se você quer exibir apenas um canal, use:\u001b[39;00m\n\u001b[0;32m     37\u001b[0m     \u001b[38;5;66;03m# plt.imshow(image[:, :, 0], aspect='auto', cmap='viridis', norm=LogNorm()) \u001b[39;00m\n\u001b[0;32m     38\u001b[0m plt\u001b[38;5;241m.\u001b[39msubplots_adjust(hspace\u001b[38;5;241m=\u001b[39m\u001b[38;5;241m0\u001b[39m, wspace\u001b[38;5;241m=\u001b[39m\u001b[38;5;241m0\u001b[39m)\n",
      "File \u001b[1;32m~\\AppData\\Local\\Programs\\Python\\Python312\\Lib\\site-packages\\matplotlib\\pyplot.py:3562\u001b[0m, in \u001b[0;36mimshow\u001b[1;34m(X, cmap, norm, aspect, interpolation, alpha, vmin, vmax, origin, extent, interpolation_stage, filternorm, filterrad, resample, url, data, **kwargs)\u001b[0m\n\u001b[0;32m   3541\u001b[0m \u001b[38;5;129m@_copy_docstring_and_deprecators\u001b[39m(Axes\u001b[38;5;241m.\u001b[39mimshow)\n\u001b[0;32m   3542\u001b[0m \u001b[38;5;28;01mdef\u001b[39;00m \u001b[38;5;21mimshow\u001b[39m(\n\u001b[0;32m   3543\u001b[0m     X: ArrayLike \u001b[38;5;241m|\u001b[39m PIL\u001b[38;5;241m.\u001b[39mImage\u001b[38;5;241m.\u001b[39mImage,\n\u001b[1;32m   (...)\u001b[0m\n\u001b[0;32m   3560\u001b[0m     \u001b[38;5;241m*\u001b[39m\u001b[38;5;241m*\u001b[39mkwargs,\n\u001b[0;32m   3561\u001b[0m ) \u001b[38;5;241m-\u001b[39m\u001b[38;5;241m>\u001b[39m AxesImage:\n\u001b[1;32m-> 3562\u001b[0m     __ret \u001b[38;5;241m=\u001b[39m \u001b[43mgca\u001b[49m\u001b[43m(\u001b[49m\u001b[43m)\u001b[49m\u001b[38;5;241;43m.\u001b[39;49m\u001b[43mimshow\u001b[49m\u001b[43m(\u001b[49m\n\u001b[0;32m   3563\u001b[0m \u001b[43m        \u001b[49m\u001b[43mX\u001b[49m\u001b[43m,\u001b[49m\n\u001b[0;32m   3564\u001b[0m \u001b[43m        \u001b[49m\u001b[43mcmap\u001b[49m\u001b[38;5;241;43m=\u001b[39;49m\u001b[43mcmap\u001b[49m\u001b[43m,\u001b[49m\n\u001b[0;32m   3565\u001b[0m \u001b[43m        \u001b[49m\u001b[43mnorm\u001b[49m\u001b[38;5;241;43m=\u001b[39;49m\u001b[43mnorm\u001b[49m\u001b[43m,\u001b[49m\n\u001b[0;32m   3566\u001b[0m \u001b[43m        \u001b[49m\u001b[43maspect\u001b[49m\u001b[38;5;241;43m=\u001b[39;49m\u001b[43maspect\u001b[49m\u001b[43m,\u001b[49m\n\u001b[0;32m   3567\u001b[0m \u001b[43m        \u001b[49m\u001b[43minterpolation\u001b[49m\u001b[38;5;241;43m=\u001b[39;49m\u001b[43minterpolation\u001b[49m\u001b[43m,\u001b[49m\n\u001b[0;32m   3568\u001b[0m \u001b[43m        \u001b[49m\u001b[43malpha\u001b[49m\u001b[38;5;241;43m=\u001b[39;49m\u001b[43malpha\u001b[49m\u001b[43m,\u001b[49m\n\u001b[0;32m   3569\u001b[0m \u001b[43m        \u001b[49m\u001b[43mvmin\u001b[49m\u001b[38;5;241;43m=\u001b[39;49m\u001b[43mvmin\u001b[49m\u001b[43m,\u001b[49m\n\u001b[0;32m   3570\u001b[0m \u001b[43m        \u001b[49m\u001b[43mvmax\u001b[49m\u001b[38;5;241;43m=\u001b[39;49m\u001b[43mvmax\u001b[49m\u001b[43m,\u001b[49m\n\u001b[0;32m   3571\u001b[0m \u001b[43m        \u001b[49m\u001b[43morigin\u001b[49m\u001b[38;5;241;43m=\u001b[39;49m\u001b[43morigin\u001b[49m\u001b[43m,\u001b[49m\n\u001b[0;32m   3572\u001b[0m \u001b[43m        \u001b[49m\u001b[43mextent\u001b[49m\u001b[38;5;241;43m=\u001b[39;49m\u001b[43mextent\u001b[49m\u001b[43m,\u001b[49m\n\u001b[0;32m   3573\u001b[0m \u001b[43m        \u001b[49m\u001b[43minterpolation_stage\u001b[49m\u001b[38;5;241;43m=\u001b[39;49m\u001b[43minterpolation_stage\u001b[49m\u001b[43m,\u001b[49m\n\u001b[0;32m   3574\u001b[0m \u001b[43m        \u001b[49m\u001b[43mfilternorm\u001b[49m\u001b[38;5;241;43m=\u001b[39;49m\u001b[43mfilternorm\u001b[49m\u001b[43m,\u001b[49m\n\u001b[0;32m   3575\u001b[0m \u001b[43m        \u001b[49m\u001b[43mfilterrad\u001b[49m\u001b[38;5;241;43m=\u001b[39;49m\u001b[43mfilterrad\u001b[49m\u001b[43m,\u001b[49m\n\u001b[0;32m   3576\u001b[0m \u001b[43m        \u001b[49m\u001b[43mresample\u001b[49m\u001b[38;5;241;43m=\u001b[39;49m\u001b[43mresample\u001b[49m\u001b[43m,\u001b[49m\n\u001b[0;32m   3577\u001b[0m \u001b[43m        \u001b[49m\u001b[43murl\u001b[49m\u001b[38;5;241;43m=\u001b[39;49m\u001b[43murl\u001b[49m\u001b[43m,\u001b[49m\n\u001b[0;32m   3578\u001b[0m \u001b[43m        \u001b[49m\u001b[38;5;241;43m*\u001b[39;49m\u001b[38;5;241;43m*\u001b[39;49m\u001b[43m(\u001b[49m\u001b[43m{\u001b[49m\u001b[38;5;124;43m\"\u001b[39;49m\u001b[38;5;124;43mdata\u001b[39;49m\u001b[38;5;124;43m\"\u001b[39;49m\u001b[43m:\u001b[49m\u001b[43m \u001b[49m\u001b[43mdata\u001b[49m\u001b[43m}\u001b[49m\u001b[43m \u001b[49m\u001b[38;5;28;43;01mif\u001b[39;49;00m\u001b[43m \u001b[49m\u001b[43mdata\u001b[49m\u001b[43m \u001b[49m\u001b[38;5;129;43;01mis\u001b[39;49;00m\u001b[43m \u001b[49m\u001b[38;5;129;43;01mnot\u001b[39;49;00m\u001b[43m \u001b[49m\u001b[38;5;28;43;01mNone\u001b[39;49;00m\u001b[43m \u001b[49m\u001b[38;5;28;43;01melse\u001b[39;49;00m\u001b[43m \u001b[49m\u001b[43m{\u001b[49m\u001b[43m}\u001b[49m\u001b[43m)\u001b[49m\u001b[43m,\u001b[49m\n\u001b[0;32m   3579\u001b[0m \u001b[43m        \u001b[49m\u001b[38;5;241;43m*\u001b[39;49m\u001b[38;5;241;43m*\u001b[39;49m\u001b[43mkwargs\u001b[49m\u001b[43m,\u001b[49m\n\u001b[0;32m   3580\u001b[0m \u001b[43m    \u001b[49m\u001b[43m)\u001b[49m\n\u001b[0;32m   3581\u001b[0m     sci(__ret)\n\u001b[0;32m   3582\u001b[0m     \u001b[38;5;28;01mreturn\u001b[39;00m __ret\n",
      "File \u001b[1;32m~\\AppData\\Local\\Programs\\Python\\Python312\\Lib\\site-packages\\matplotlib\\__init__.py:1486\u001b[0m, in \u001b[0;36m_preprocess_data.<locals>.inner\u001b[1;34m(ax, data, *args, **kwargs)\u001b[0m\n\u001b[0;32m   1483\u001b[0m \u001b[38;5;129m@functools\u001b[39m\u001b[38;5;241m.\u001b[39mwraps(func)\n\u001b[0;32m   1484\u001b[0m \u001b[38;5;28;01mdef\u001b[39;00m \u001b[38;5;21minner\u001b[39m(ax, \u001b[38;5;241m*\u001b[39margs, data\u001b[38;5;241m=\u001b[39m\u001b[38;5;28;01mNone\u001b[39;00m, \u001b[38;5;241m*\u001b[39m\u001b[38;5;241m*\u001b[39mkwargs):\n\u001b[0;32m   1485\u001b[0m     \u001b[38;5;28;01mif\u001b[39;00m data \u001b[38;5;129;01mis\u001b[39;00m \u001b[38;5;28;01mNone\u001b[39;00m:\n\u001b[1;32m-> 1486\u001b[0m         \u001b[38;5;28;01mreturn\u001b[39;00m \u001b[43mfunc\u001b[49m\u001b[43m(\u001b[49m\n\u001b[0;32m   1487\u001b[0m \u001b[43m            \u001b[49m\u001b[43max\u001b[49m\u001b[43m,\u001b[49m\n\u001b[0;32m   1488\u001b[0m \u001b[43m            \u001b[49m\u001b[38;5;241;43m*\u001b[39;49m\u001b[38;5;28;43mmap\u001b[39;49m\u001b[43m(\u001b[49m\u001b[43msanitize_sequence\u001b[49m\u001b[43m,\u001b[49m\u001b[43m \u001b[49m\u001b[43margs\u001b[49m\u001b[43m)\u001b[49m\u001b[43m,\u001b[49m\n\u001b[0;32m   1489\u001b[0m \u001b[43m            \u001b[49m\u001b[38;5;241;43m*\u001b[39;49m\u001b[38;5;241;43m*\u001b[39;49m\u001b[43m{\u001b[49m\u001b[43mk\u001b[49m\u001b[43m:\u001b[49m\u001b[43m \u001b[49m\u001b[43msanitize_sequence\u001b[49m\u001b[43m(\u001b[49m\u001b[43mv\u001b[49m\u001b[43m)\u001b[49m\u001b[43m \u001b[49m\u001b[38;5;28;43;01mfor\u001b[39;49;00m\u001b[43m \u001b[49m\u001b[43mk\u001b[49m\u001b[43m,\u001b[49m\u001b[43m \u001b[49m\u001b[43mv\u001b[49m\u001b[43m \u001b[49m\u001b[38;5;129;43;01min\u001b[39;49;00m\u001b[43m \u001b[49m\u001b[43mkwargs\u001b[49m\u001b[38;5;241;43m.\u001b[39;49m\u001b[43mitems\u001b[49m\u001b[43m(\u001b[49m\u001b[43m)\u001b[49m\u001b[43m}\u001b[49m\u001b[43m)\u001b[49m\n\u001b[0;32m   1491\u001b[0m     bound \u001b[38;5;241m=\u001b[39m new_sig\u001b[38;5;241m.\u001b[39mbind(ax, \u001b[38;5;241m*\u001b[39margs, \u001b[38;5;241m*\u001b[39m\u001b[38;5;241m*\u001b[39mkwargs)\n\u001b[0;32m   1492\u001b[0m     auto_label \u001b[38;5;241m=\u001b[39m (bound\u001b[38;5;241m.\u001b[39marguments\u001b[38;5;241m.\u001b[39mget(label_namer)\n\u001b[0;32m   1493\u001b[0m                   \u001b[38;5;129;01mor\u001b[39;00m bound\u001b[38;5;241m.\u001b[39mkwargs\u001b[38;5;241m.\u001b[39mget(label_namer))\n",
      "File \u001b[1;32m~\\AppData\\Local\\Programs\\Python\\Python312\\Lib\\site-packages\\matplotlib\\axes\\_axes.py:5895\u001b[0m, in \u001b[0;36mAxes.imshow\u001b[1;34m(self, X, cmap, norm, aspect, interpolation, alpha, vmin, vmax, origin, extent, interpolation_stage, filternorm, filterrad, resample, url, **kwargs)\u001b[0m\n\u001b[0;32m   5892\u001b[0m \u001b[38;5;28;01mif\u001b[39;00m aspect \u001b[38;5;129;01mis\u001b[39;00m \u001b[38;5;129;01mnot\u001b[39;00m \u001b[38;5;28;01mNone\u001b[39;00m:\n\u001b[0;32m   5893\u001b[0m     \u001b[38;5;28mself\u001b[39m\u001b[38;5;241m.\u001b[39mset_aspect(aspect)\n\u001b[1;32m-> 5895\u001b[0m \u001b[43mim\u001b[49m\u001b[38;5;241;43m.\u001b[39;49m\u001b[43mset_data\u001b[49m\u001b[43m(\u001b[49m\u001b[43mX\u001b[49m\u001b[43m)\u001b[49m\n\u001b[0;32m   5896\u001b[0m im\u001b[38;5;241m.\u001b[39mset_alpha(alpha)\n\u001b[0;32m   5897\u001b[0m \u001b[38;5;28;01mif\u001b[39;00m im\u001b[38;5;241m.\u001b[39mget_clip_path() \u001b[38;5;129;01mis\u001b[39;00m \u001b[38;5;28;01mNone\u001b[39;00m:\n\u001b[0;32m   5898\u001b[0m     \u001b[38;5;66;03m# image does not already have clipping set, clip to Axes patch\u001b[39;00m\n",
      "File \u001b[1;32m~\\AppData\\Local\\Programs\\Python\\Python312\\Lib\\site-packages\\matplotlib\\image.py:729\u001b[0m, in \u001b[0;36m_ImageBase.set_data\u001b[1;34m(self, A)\u001b[0m\n\u001b[0;32m    727\u001b[0m \u001b[38;5;28;01mif\u001b[39;00m \u001b[38;5;28misinstance\u001b[39m(A, PIL\u001b[38;5;241m.\u001b[39mImage\u001b[38;5;241m.\u001b[39mImage):\n\u001b[0;32m    728\u001b[0m     A \u001b[38;5;241m=\u001b[39m pil_to_array(A)  \u001b[38;5;66;03m# Needed e.g. to apply png palette.\u001b[39;00m\n\u001b[1;32m--> 729\u001b[0m \u001b[38;5;28mself\u001b[39m\u001b[38;5;241m.\u001b[39m_A \u001b[38;5;241m=\u001b[39m \u001b[38;5;28;43mself\u001b[39;49m\u001b[38;5;241;43m.\u001b[39;49m\u001b[43m_normalize_image_array\u001b[49m\u001b[43m(\u001b[49m\u001b[43mA\u001b[49m\u001b[43m)\u001b[49m\n\u001b[0;32m    730\u001b[0m \u001b[38;5;28mself\u001b[39m\u001b[38;5;241m.\u001b[39m_imcache \u001b[38;5;241m=\u001b[39m \u001b[38;5;28;01mNone\u001b[39;00m\n\u001b[0;32m    731\u001b[0m \u001b[38;5;28mself\u001b[39m\u001b[38;5;241m.\u001b[39mstale \u001b[38;5;241m=\u001b[39m \u001b[38;5;28;01mTrue\u001b[39;00m\n",
      "File \u001b[1;32m~\\AppData\\Local\\Programs\\Python\\Python312\\Lib\\site-packages\\matplotlib\\image.py:697\u001b[0m, in \u001b[0;36m_ImageBase._normalize_image_array\u001b[1;34m(A)\u001b[0m\n\u001b[0;32m    695\u001b[0m     A \u001b[38;5;241m=\u001b[39m A\u001b[38;5;241m.\u001b[39msqueeze(\u001b[38;5;241m-\u001b[39m\u001b[38;5;241m1\u001b[39m)  \u001b[38;5;66;03m# If just (M, N, 1), assume scalar and apply colormap.\u001b[39;00m\n\u001b[0;32m    696\u001b[0m \u001b[38;5;28;01mif\u001b[39;00m \u001b[38;5;129;01mnot\u001b[39;00m (A\u001b[38;5;241m.\u001b[39mndim \u001b[38;5;241m==\u001b[39m \u001b[38;5;241m2\u001b[39m \u001b[38;5;129;01mor\u001b[39;00m A\u001b[38;5;241m.\u001b[39mndim \u001b[38;5;241m==\u001b[39m \u001b[38;5;241m3\u001b[39m \u001b[38;5;129;01mand\u001b[39;00m A\u001b[38;5;241m.\u001b[39mshape[\u001b[38;5;241m-\u001b[39m\u001b[38;5;241m1\u001b[39m] \u001b[38;5;129;01min\u001b[39;00m [\u001b[38;5;241m3\u001b[39m, \u001b[38;5;241m4\u001b[39m]):\n\u001b[1;32m--> 697\u001b[0m     \u001b[38;5;28;01mraise\u001b[39;00m \u001b[38;5;167;01mTypeError\u001b[39;00m(\u001b[38;5;124mf\u001b[39m\u001b[38;5;124m\"\u001b[39m\u001b[38;5;124mInvalid shape \u001b[39m\u001b[38;5;132;01m{\u001b[39;00mA\u001b[38;5;241m.\u001b[39mshape\u001b[38;5;132;01m}\u001b[39;00m\u001b[38;5;124m for image data\u001b[39m\u001b[38;5;124m\"\u001b[39m)\n\u001b[0;32m    698\u001b[0m \u001b[38;5;28;01mif\u001b[39;00m A\u001b[38;5;241m.\u001b[39mndim \u001b[38;5;241m==\u001b[39m \u001b[38;5;241m3\u001b[39m:\n\u001b[0;32m    699\u001b[0m     \u001b[38;5;66;03m# If the input data has values outside the valid range (after\u001b[39;00m\n\u001b[0;32m    700\u001b[0m     \u001b[38;5;66;03m# normalisation), we issue a warning and then clip X to the bounds\u001b[39;00m\n\u001b[0;32m    701\u001b[0m     \u001b[38;5;66;03m# - otherwise casting wraps extreme values, hiding outliers and\u001b[39;00m\n\u001b[0;32m    702\u001b[0m     \u001b[38;5;66;03m# making reliable interpretation impossible.\u001b[39;00m\n\u001b[0;32m    703\u001b[0m     high \u001b[38;5;241m=\u001b[39m \u001b[38;5;241m255\u001b[39m \u001b[38;5;28;01mif\u001b[39;00m np\u001b[38;5;241m.\u001b[39missubdtype(A\u001b[38;5;241m.\u001b[39mdtype, np\u001b[38;5;241m.\u001b[39minteger) \u001b[38;5;28;01melse\u001b[39;00m \u001b[38;5;241m1\u001b[39m\n",
      "\u001b[1;31mTypeError\u001b[0m: Invalid shape (75, 75, 2) for image data"
     ]
    },
    {
     "data": {
      "image/png": "[encoded data removed]",
      "text/plain": [
       "<Figure size 800x800 with 1 Axes>"
      ]
     },
     "metadata": {},
     "output_type": "display_data"
    }
   ],
   "source": [
    "import matplotlib.pyplot as plt\n",
    "from matplotlib.colors import LogNorm  # Importação da classe LogNorm\n",
    "import numpy as np\n",
    "\n",
    "# plot examples\n",
    "tp1 = X_test[4] # Ajuste os índices para os exemplos do X_test\n",
    "tp2 = X_test[14]\n",
    "tp3 = X_test[20]\n",
    "tp4 = X_test[28]\n",
    "\n",
    "fp1 = X_test[0]\n",
    "fp2 = X_test[12]\n",
    "fp3 = X_test[27]\n",
    "fp4 = X_test[25]\n",
    "\n",
    "tn1 = X_test[1]\n",
    "tn2 = X_test[10]\n",
    "tn3 = X_test[19]\n",
    "tn4 = X_test[23]\n",
    "\n",
    "fn1 = X_test[3]\n",
    "fn2 = X_test[15]\n",
    "fn3 = X_test[21]\n",
    "fn4 = X_test[26]\n",
    "\n",
    "examples = [tp1, tp2, tp3, tp4, fp1, fp2, fp3, fp4, tn1, tn2, tn3, tn4, fn1, fn2, fn3, fn4]\n",
    "\n",
    "fig1=plt.figure(figsize=(8,8))\n",
    "\n",
    "for i, image in enumerate(examples):\n",
    "    fig1.suptitle('From top row to bottom: TP, FP, TN, FN', fontsize=20)\n",
    "    plt.subplot(4, 4, i + 1)\n",
    "    plt.axis(\"off\")\n",
    "    # Se você quer exibir os dois canais juntos, use a função np.stack()\n",
    "    plt.imshow(np.stack((image[:, :, 0], image[:, :, 1]), axis=-1), aspect='auto', cmap='viridis', norm=LogNorm())\n",
    "    # Se você quer exibir apenas um canal, use:\n",
    "    # plt.imshow(image[:, :, 0], aspect='auto', cmap='viridis', norm=LogNorm()) \n",
    "plt.subplots_adjust(hspace=0, wspace=0)\n",
    "plt.show()"
   ]
  },
  {
   "cell_type": "raw",
   "id": "9c4da07c-3e22-4f9f-9876-3ef5f231a2c0",
   "metadata": {},
   "source": [
    "Past and future merger subsamples"
   ]
  },
  {
   "cell_type": "code",
   "execution_count": null,
   "id": "655d333e-fc6e-484e-bb74-0b3e9ffc3388",
   "metadata": {},
   "outputs": [],
   "source": [
    "#make subsamples for plotting\n",
    "list_past = []\n",
    "list_future = []\n",
    "list_nonmerger = []\n",
    "for i in range(len(y_sub_test)):\n",
    "    if y_sub_test[i,0]==1 and y_sub_test[i,1]==1:\n",
    "        list_past.append(prob[i])\n",
    "    if y_sub_test[i,0]==1 and y_sub_test[i,1]==0:\n",
    "        list_future.append(prob[i])\n",
    "    if y_sub_test[i,0]==0:\n",
    "        list_nonmerger.append(prob[i])\n",
    "past = np.stack(list_past)\n",
    "future = np.stack(list_future)\n",
    "non = np.stack(list_nonmerger)\n",
    "\n",
    "print('TEST SET OF PRISTINE IMAGES SB00\\n' 'Number of past mergers:',\n",
    "      len(past) ,'\\nNumber of future mergers:',\n",
    "      len(future),'\\nNumber of non-mergers:',len(non))"
   ]
  },
  {
   "cell_type": "code",
   "execution_count": null,
   "id": "a364ba4f-4579-4872-baee-e16ac88f9de6",
   "metadata": {},
   "outputs": [],
   "source": [
    "# plot histogram\n",
    "bins = 50\n",
    "plt.hist(non, bins, alpha=0.9, label='non-mergers', color='red')\n",
    "plt.hist(past, bins, alpha=1, label='past mergers', color='deepskyblue')\n",
    "plt.hist(future, bins, alpha=1, label='future mergers', color='navy')\n",
    "plt.legend(loc='upper center')\n",
    "plt.xticks(np.arange(0.1, 1, step=0.1))\n",
    "plt.yticks(np.arange(0, 310, step=50))\n",
    "plt.xlabel(\"CNN Output\")\n",
    "plt.show()"
   ]
  },
  {
   "cell_type": "raw",
   "id": "b6560e61-1d56-483c-8de5-e39c61640277",
   "metadata": {},
   "source": [
    "Camadas de ativação"
   ]
  },
  {
   "cell_type": "code",
   "execution_count": null,
   "id": "633a30b6-d7e1-441d-8296-320cfdd3e1a0",
   "metadata": {},
   "outputs": [],
   "source": [
    "# Extracts the outputs of all layers except the input layer\n",
    "layer_outputs = [layer.output for layer in loaded_model.layers[1:]] \n",
    "# Creates a model that will return these outputs, given the model input\n",
    "activation_model = models.Model(inputs=loaded_model.input, outputs=layer_outputs) \n",
    "\n",
    "# returns the values of the layer activations in the original model\n",
    "# Returns a list of Numpy arrays: one array per layer activation\n",
    "activations = activation_model.predict(x_test) "
   ]
  },
  {
   "cell_type": "code",
   "execution_count": null,
   "id": "e25cb6f7-2594-4b10-9024-adaf08a30a8f",
   "metadata": {},
   "outputs": [],
   "source": [
    "# activation maps for all 8 filters in the first convolutional layer\n",
    "fig1=plt.figure(figsize=(10,1.5))  \n",
    "for i in range(8):\n",
    "    plt.subplot(1, 8, i + 1)\n",
    "    layer_activation = activations[0]\n",
    "    plt.imshow(layer_activation[1649,i, :, :], cmap='viridis',aspect='auto')\n",
    "    plt.axis(\"off\")\n",
    "    plt.subplots_adjust(hspace=0, wspace=0)\n",
    "\n",
    "# activation maps for all 16 filters in the second convolutional layer    \n",
    "fig2=plt.figure(figsize=(10,3))  \n",
    "for i in range(16):\n",
    "    plt.subplot(2, 8, i + 1)\n",
    "    layer_activation = activations[4]\n",
    "    plt.imshow(layer_activation[1649,i, :, :], cmap='viridis',aspect='auto')\n",
    "    plt.axis(\"off\")\n",
    "    plt.subplots_adjust(hspace=0, wspace=0)\n",
    "    \n",
    "# activation maps for all 32 filters in the third convolutional layer\n",
    "fig3=plt.figure(figsize=(10,6))  \n",
    "for i in range(32):\n",
    "    plt.subplot(4, 8, i + 1)\n",
    "    layer_activation = activations[8]\n",
    "    plt.imshow(layer_activation[1649,i, :, :], cmap='viridis',aspect='auto')\n",
    "    plt.axis(\"off\")\n",
    "    plt.subplots_adjust(hspace=0, wspace=0)"
   ]
  },
  {
   "cell_type": "raw",
   "id": "558806df-66aa-42fe-b7f4-03c596e225ec",
   "metadata": {},
   "source": [
    "Grad-CAM"
   ]
  },
  {
   "cell_type": "code",
   "execution_count": null,
   "id": "3e8616f1-192f-46e4-a219-b461cc3ae38e",
   "metadata": {},
   "outputs": [],
   "source": [
    "# largest output probabilities\n",
    "example_i_TP=[]\n",
    "example_i_FP=[]\n",
    "example_i_TN=[]\n",
    "example_i_FN=[]\n",
    "\n",
    "for i in range(len(prob)):\n",
    "    if prob[i] > 0.90 and y_test[i]==1:\n",
    "        example_i_TP.append(i) \n",
    "    if prob[i] > 0.80 and y_test[i]==0:\n",
    "        example_i_FP.append(i) \n",
    "        \n",
    "        \n",
    "for i in range(len(prob)):\n",
    "    if prob[i] < 0.1 and y_test[i]==0:\n",
    "        example_i_TN.append(i) \n",
    "    if prob[i] < 0.15 and y_test[i]==1:\n",
    "        example_i_FN.append(i) \n",
    "        \n",
    "        \n",
    "# lowest output probabilities\n",
    "bad_example_i_TP=[]\n",
    "bad_example_i_FP=[]\n",
    "bad_example_i_TN=[]\n",
    "bad_example_i_FN=[]\n",
    "\n",
    "for i in range(len(prob)):\n",
    "    if 0.5 < prob[i] < 0.55 and y_test[i]==1:\n",
    "        bad_example_i_TP.append(i) \n",
    "    if 0.5 < prob[i] < 0.58 and y_test[i]==0:\n",
    "        bad_example_i_FP.append(i) \n",
    "        \n",
    "        \n",
    "for i in range(len(prob)):\n",
    "    if 0.44 < prob[i] < 0.5 and y_test[i]==0:\n",
    "        bad_example_i_TN.append(i) \n",
    "    if 0.44 < prob[i] < 0.5 and y_test[i]==1:\n",
    "        bad_example_i_FN.append(i) "
   ]
  },
  {
   "cell_type": "code",
   "execution_count": null,
   "id": "0d558989-77a4-43e0-bf0e-f918aad968c2",
   "metadata": {},
   "outputs": [],
   "source": [
    "# set channel_first data format in Keras backend in order for grad-CAM to work properly\n",
    "K.set_image_data_format('channels_first')\n",
    "\n",
    "# find the last convolutional layer\n",
    "penultimate_layer = utils.find_layer_idx(loaded_model, 'conv2d_3')\n",
    "class_idx = 0 # choose the class position in the output layer, here 0 since the output has just one dimention\n",
    "layer_idx = -1 # location of the output layer"
   ]
  },
  {
   "cell_type": "code",
   "execution_count": null,
   "id": "93c89c83-cd39-4c29-b004-89fddc180af5",
   "metadata": {},
   "outputs": [],
   "source": [
    "# make a list of four TP, FP, TN and FN high-probability examples \n",
    "example_list=[example_i_TP[22],example_i_TP[2],example_i_TP[4],example_i_TP[5],\n",
    "             example_i_FP[1],example_i_FP[7],example_i_FP[3],example_i_FP[4],\n",
    "             example_i_TN[2],example_i_TN[3],example_i_TN[11],example_i_TN[5],\n",
    "             example_i_FN[1],example_i_FN[2],example_i_FN[15],example_i_FN[5]]\n",
    "\n",
    "fig1=plt.figure(figsize=(7,7))\n",
    "fig1.suptitle(\"TP, FP, TN and FN (from top to bottom rows) high-probability examples (grad-CAMs of the last convolutional layer)\")\n",
    "\n",
    "for i in range(16):\n",
    "    grads = visualize_cam(loaded_model, layer_idx, filter_indices=0, \n",
    "                              seed_input=x_test[example_list[i]], penultimate_layer_idx=penultimate_layer,\n",
    "                              backprop_modifier='guided')\n",
    "    plt.subplot(4, 4, i + 1)\n",
    "    plt.axis(\"off\")\n",
    "    \n",
    "    plt.imshow(grads, aspect='auto', cmap='viridis')\n",
    "plt.subplots_adjust(hspace=0, wspace=0)\n",
    "plt.show()"
   ]
  },
  {
   "cell_type": "code",
   "execution_count": null,
   "id": "5b9c79a9-94f2-4fda-939f-43f102f2f6c0",
   "metadata": {},
   "outputs": [],
   "source": [
    "# make a list of four TP, FP, TN and FN low-probability examples \n",
    "bad_example_list=[bad_example_i_TP[22],bad_example_i_TP[2],bad_example_i_TP[4],bad_example_i_TP[5],\n",
    "             bad_example_i_FP[1],bad_example_i_FP[7],bad_example_i_FP[3],bad_example_i_FP[4],\n",
    "             bad_example_i_TN[13],bad_example_i_TN[20],bad_example_i_TN[11],bad_example_i_TN[5],\n",
    "             bad_example_i_FN[1],bad_example_i_FN[7],bad_example_i_FN[15],bad_example_i_FN[5]]\n",
    "\n",
    "fig1=plt.figure(figsize=(7,7))\n",
    "fig1.suptitle(\"TP, FP, TN and FN (from top to bottom rows) low-probability examples (grad-CAMs of the last convolutional layer)\")\n",
    "\n",
    "for i in range(16):\n",
    "    grads = visualize_cam(loaded_model, layer_idx, filter_indices=0, \n",
    "                              seed_input=x_test[bad_example_list[i]], penultimate_layer_idx=penultimate_layer,\n",
    "                              backprop_modifier='guided')\n",
    "    plt.subplot(4, 4, i + 1)\n",
    "    plt.axis(\"off\")\n",
    "    \n",
    "    plt.imshow(grads, aspect='auto', cmap='viridis')\n",
    "plt.subplots_adjust(hspace=0, wspace=0)\n",
    "plt.show()"
   ]
  },
  {
   "cell_type": "raw",
   "id": "e055cf9e-0754-4b37-8765-9cf41c68e853",
   "metadata": {},
   "source": [
    "Bootstraping"
   ]
  },
  {
   "cell_type": "code",
   "execution_count": null,
   "id": "80605965-4dce-4ef9-ad34-4043b0257638",
   "metadata": {},
   "outputs": [],
   "source": [
    "# Bootstraping is used to show errors of different clasificaiton scoring methods. \n",
    "# We make 1000 bootstraping resamples and recalculate AUC, accuracy etc.\n",
    "# Then we find 95% CI for these values.\n",
    "\n",
    "y_pred = pred # output class 0 or 1\n",
    "y_prob = prob # output probability between 0 and 1\n",
    "y_true = y_test # true class 0 or 1\n",
    "\n",
    "n_bootstraps = 1000\n",
    "rng_seed = 3  # controls reproducibility\n",
    "bootstrapped_auc = []\n",
    "bootstrapped_accuracy = []\n",
    "bootstrapped_precision = []\n",
    "bootstrapped_recall = []\n",
    "bootstrapped_f1 = []\n",
    "bootstrapped_brier = []\n",
    "bootstrapped_fpr = []\n",
    "bootstrapped_tpr = []\n",
    "\n",
    "rng = np.random.RandomState(rng_seed)\n",
    "for i in range(n_bootstraps):\n",
    "    # bootstrap by sampling with replacement on the prediction indices\n",
    "    indices = rng.randint(0, len(y_prob) - 1, len(y_prob))\n",
    "    if len(np.unique(y_true[indices])) < 2:\n",
    "        # We need at least one positive and one negative sample for ROC AUC\n",
    "        # to be defined: reject the sample\n",
    "        continue\n",
    "\n",
    "    score_auc = roc_auc_score(y_true[indices], y_prob[indices])\n",
    "    bootstrapped_auc.append(score_auc)\n",
    "   \n",
    "    score_acc = accuracy_score(y_true[indices], y_pred[indices])\n",
    "    bootstrapped_accuracy.append(score_acc)\n",
    "    \n",
    "    score_precision = precision_score(y_true[indices], y_pred[indices])\n",
    "    bootstrapped_precision.append(score_precision)\n",
    "    \n",
    "    score_recall = recall_score(y_true[indices], y_pred[indices])\n",
    "    bootstrapped_recall.append(score_recall)\n",
    "    \n",
    "    score_f1 = f1_score(y_true[indices], y_pred[indices])\n",
    "    bootstrapped_f1.append(score_f1)\n",
    "    \n",
    "    score_brier = brier_score_loss(y_true[indices], y_prob[indices])\n",
    "    bootstrapped_brier.append(score_brier)\n",
    "    \n",
    "    fpr_score, tpr_score, thresholds_score = metrics.roc_curve(y_true[indices], y_prob[indices], pos_label=1)\n",
    "    bootstrapped_fpr.append(fpr_score)\n",
    "    bootstrapped_tpr.append(tpr_score)"
   ]
  },
  {
   "cell_type": "code",
   "execution_count": null,
   "id": "c2bb8567-010b-4385-8948-d68993236fb5",
   "metadata": {},
   "outputs": [],
   "source": [
    "# we can plot histograms to see the bootstraped values\n",
    "# change to \"bootstrapped_accuracy,bootstrapped_precision,bootstrapped_recall,\n",
    "# bootstrapped_f1,bootstrapped_brier\", for other histograms\n",
    "plt.hist(bootstrapped_auc, bins=50)\n",
    "plt.title('Histogram of the bootstrapped ROC AUC scores')\n",
    "plt.show()"
   ]
  },
  {
   "cell_type": "code",
   "execution_count": null,
   "id": "c31555c2-cf68-4529-9c81-d4e0f07cf3a6",
   "metadata": {},
   "outputs": [],
   "source": [
    "sorted_auc = np.array(bootstrapped_auc)\n",
    "sorted_acc = np.array(bootstrapped_accuracy)\n",
    "sorted_precision = np.array(bootstrapped_precision)\n",
    "sorted_recall = np.array(bootstrapped_recall)\n",
    "sorted_f1 = np.array(bootstrapped_f1)\n",
    "sorted_brier = np.array(bootstrapped_brier)\n",
    "\n",
    "sorted_auc.sort()\n",
    "sorted_acc.sort()\n",
    "sorted_precision.sort()\n",
    "sorted_recall.sort()\n",
    "sorted_f1.sort()\n",
    "sorted_brier.sort()\n",
    "\n",
    "# Computing the lower and upper bound of the 95% confidence interval\n",
    "confidence_lower_auc = sorted_auc[int(0.025 * len(sorted_auc))]\n",
    "confidence_upper_auc = sorted_auc[int(0.975 * len(sorted_auc))]\n",
    "\n",
    "confidence_lower_acc = sorted_acc[int(0.025 * len(sorted_acc))]\n",
    "confidence_upper_acc = sorted_acc[int(0.975 * len(sorted_acc))]\n",
    "                                 \n",
    "confidence_lower_precision = sorted_precision[int(0.025 * len(sorted_precision))]\n",
    "confidence_upper_precision = sorted_precision[int(0.975 * len(sorted_precision))]\n",
    "                                 \n",
    "confidence_lower_recall = sorted_recall[int(0.025 * len(sorted_recall))]\n",
    "confidence_upper_recall = sorted_recall[int(0.975 * len(sorted_recall))]\n",
    "                                       \n",
    "confidence_lower_f1 = sorted_f1[int(0.025 * len(sorted_f1))]\n",
    "confidence_upper_f1 = sorted_f1[int(0.975 * len(sorted_f1))]\n",
    "                                 \n",
    "confidence_lower_brier = sorted_brier[int(0.025 * len(sorted_brier))]\n",
    "confidence_upper_brier = sorted_brier[int(0.975 * len(sorted_brier))]\n",
    "\n",
    "\n",
    "print(\"Original ROC area: {:0.3f}\".format(roc_auc_score(y_true, y_prob)))\n",
    "print(\"95% Confidence interval for the AUC score: [{:0.3} - {:0.3}]\".format(\n",
    "    confidence_lower_auc, confidence_upper_auc))\n",
    "print(\"95%CI AUC errors are: [{:0.3} , {:0.3}]\".format(\n",
    "    confidence_lower_auc - roc_auc_score(y_true, y_prob), \n",
    "    confidence_upper_auc - roc_auc_score(y_true, y_prob)))\n",
    "\n",
    "print(\"Original Accuracy: {:0.3f}\".format(accuracy_score(y_true, y_pred)))\n",
    "print(\"95% Confidence interval for the Accuracy: [{:0.3} - {:0.3}]\".format(\n",
    "    confidence_lower_acc, confidence_upper_acc))\n",
    "print(\"95%CI Accuracy errors are: [{:0.3} , {:0.3}]\".format(\n",
    "    confidence_lower_acc - accuracy_score(y_true, y_pred), \n",
    "    confidence_upper_acc - accuracy_score(y_true, y_pred)))\n",
    "\n",
    "print(\"Original Precision: {:0.3f}\".format(precision_score(y_true, y_pred)))\n",
    "print(\"95% Confidence interval for the Precision: [{:0.3} - {:0.3}]\".format(\n",
    "    confidence_lower_precision, confidence_upper_precision))\n",
    "print(\"95%CI Precision errors are: [{:0.3} , {:0.3}]\".format(\n",
    "    confidence_lower_precision - precision_score(y_true, y_pred), \n",
    "    confidence_upper_precision - precision_score(y_true, y_pred)))\n",
    "\n",
    "print(\"Original Recall: {:0.3f}\".format(recall_score(y_true, y_pred)))\n",
    "print(\"95% Confidence interval for the Recall: [{:0.3} - {:0.3}]\".format(\n",
    "    confidence_lower_recall, confidence_upper_recall))\n",
    "print(\"95%CI Recall errors are: [{:0.3} , {:0.3}]\".format(\n",
    "    confidence_lower_recall - recall_score(y_true, y_pred), \n",
    "    confidence_upper_recall - recall_score(y_true, y_pred)))\n",
    "\n",
    "print(\"Original F1 score: {:0.3f}\".format(f1_score(y_true, y_pred)))\n",
    "print(\"95% Confidence interval for the F1 score: [{:0.3} - {:0.3}]\".format(\n",
    "    confidence_lower_f1, confidence_upper_f1))\n",
    "print(\"95%CI F1 score errors are: [{:0.3} , {:0.3}]\".format(\n",
    "    confidence_lower_f1 - f1_score(y_true, y_pred), \n",
    "    confidence_upper_f1 - f1_score(y_true, y_pred)))\n",
    "\n",
    "print(\"Original Brier score: {:0.3f}\".format(brier_score_loss(y_true, y_prob)))\n",
    "print(\"95% Confidence interval for the Brier score: [{:0.3} - {:0.3}]\".format(\n",
    "    confidence_lower_brier, confidence_upper_brier))\n",
    "print(\"95%CI Brier score errors are: [{:0.3} , {:0.3}]\".format(\n",
    "    confidence_lower_brier - brier_score_loss(y_true, y_prob), \n",
    "    confidence_upper_brier - brier_score_loss(y_true, y_prob)))"
   ]
  },
  {
   "cell_type": "code",
   "execution_count": null,
   "id": "f7d46638-f813-44ad-9bef-92db70b0e777",
   "metadata": {},
   "outputs": [],
   "source": [
    "# We can also find 95%CI (in vertical direction) for the ROC curve\n",
    "\n",
    "tprs = []\n",
    "base_fpr = np.linspace(0, 1, 1001)\n",
    "\n",
    "for i in range(len(bootstrapped_fpr)):  \n",
    "    tpr1 = interp(base_fpr, bootstrapped_fpr[i], bootstrapped_tpr[i])\n",
    "    tpr1[0] = 0.0\n",
    "    tprs.append(tpr1)\n",
    "\n",
    "tprs = np.array(tprs)\n",
    "mean = tprs.mean(axis=0) # mean tpr\n",
    "std = tprs.std(axis=0) # standard deviation of tpr\n",
    "\n",
    "# 95%CI can be calculated as:\n",
    "tprs_upper_95 = mean + 1.96*std  # 1.96 is z-score for 95%CI\n",
    "tprs_lower_95 = mean - 1.96*std\n",
    "\n",
    "\n",
    "# Plots ROC curve with 95%CI in the vertical direction\n",
    "figsize=(6,6)\n",
    "fig, axis1 = plt.subplots(figsize=figsize)\n",
    "x_onetoone = y_onetoone = [0, 1]\n",
    "\n",
    "prist = plt.plot(fpr, tpr, 'navy', linewidth=2, label='pristine images')\n",
    "prist_fill = plt.fill_between(base_fpr, tprs_lower_95, tprs_upper_95, color='deepskyblue', alpha=0.9, label='95%CI pristine images')\n",
    "line = plt.plot(x_onetoone, y_onetoone, 'k--',linewidth=1, label=\"1-1\")\n",
    "\n",
    "\n",
    "plt.legend(loc='lower right')\n",
    "plt.xlabel(\"False Positive (1 - Specificity)\")\n",
    "plt.ylabel(\"True Positive (Selectivity)\")\n",
    "plt.tight_layout()"
   ]
  }
 ],
 "metadata": {
  "kernelspec": {
   "display_name": "Python 3 (ipykernel)",
   "language": "python",
   "name": "python3"
  },
  "language_info": {
   "codemirror_mode": {
    "name": "ipython",
    "version": 3
   },
   "file_extension": ".py",
   "mimetype": "text/x-python",
   "name": "python",
   "nbconvert_exporter": "python",
   "pygments_lexer": "ipython3",
   "version": "3.12.5"
  }
 },
 "nbformat": 4,
 "nbformat_minor": 5
}
